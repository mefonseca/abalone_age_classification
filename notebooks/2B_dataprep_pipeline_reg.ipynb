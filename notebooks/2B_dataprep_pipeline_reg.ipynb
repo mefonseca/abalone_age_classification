{
 "cells": [
  {
   "cell_type": "markdown",
   "id": "88672642",
   "metadata": {},
   "source": [
    "# Abalone Project - Data preparation Pipeline\n",
    "Maria Eugênia Fonseca\\\n",
    "2021/09/25"
   ]
  },
  {
   "cell_type": "code",
   "execution_count": 1,
   "id": "49f2b27e",
   "metadata": {},
   "outputs": [],
   "source": [
    "import pandas as pd\n",
    "\n",
    "from sklearn.pipeline import Pipeline\n",
    "from sklearn.model_selection import train_test_split\n",
    "from sklearn.preprocessing import MinMaxScaler\n",
    "from sklearn.linear_model import LinearRegression\n",
    "from sklearn.metrics import mean_squared_error, r2_score\n",
    "\n",
    "from feature_engine.encoding import OneHotEncoder\n",
    "from feature_engine.transformation import BoxCoxTransformer\n",
    "\n",
    "import mlflow"
   ]
  },
  {
   "cell_type": "code",
   "execution_count": 2,
   "id": "75a29be1",
   "metadata": {},
   "outputs": [],
   "source": [
    "col_names = ['sex', 'length', 'diameter', 'height', 'whole_weight', 'shucked_weight', 'viscera_weight', 'shell_weight', 'rings']\n",
    "\n",
    "data = pd.read_csv(\"../data/raw/abalone_data.txt\", header = None, names=col_names)"
   ]
  },
  {
   "cell_type": "code",
   "execution_count": 3,
   "id": "4b8daf71",
   "metadata": {},
   "outputs": [],
   "source": [
    "# Creating Age variable:\n",
    "data['age'] = data['rings'] + 1.5\n",
    "data.drop('rings', axis=1, inplace=True)"
   ]
  },
  {
   "cell_type": "code",
   "execution_count": 4,
   "id": "a612b6ef",
   "metadata": {},
   "outputs": [],
   "source": [
    "# Removing observations with zero height:\n",
    "data = data[data['height'] != 0]"
   ]
  },
  {
   "cell_type": "code",
   "execution_count": 5,
   "id": "537d1fca",
   "metadata": {},
   "outputs": [],
   "source": [
    "X = data.drop('age', axis=1)\n",
    "y = data['age']\n",
    "\n",
    "X_train, X_test, y_train, y_test = train_test_split(X, y, test_size=0.2, random_state=123, stratify=data['sex'])"
   ]
  },
  {
   "cell_type": "markdown",
   "id": "7d282300",
   "metadata": {},
   "source": [
    "### Config"
   ]
  },
  {
   "cell_type": "code",
   "execution_count": 6,
   "id": "dc1bfdc6",
   "metadata": {},
   "outputs": [],
   "source": [
    "CATEGORICAL_VARS = ['sex']\n",
    "NUMERICAL_BOXCOX_VARS = ['length', 'diameter', 'height', 'whole_weight','shucked_weight',\n",
    "                           'viscera_weight', 'shell_weight']"
   ]
  },
  {
   "cell_type": "markdown",
   "id": "0f89c7ea",
   "metadata": {},
   "source": [
    "### Pipeline 1\n",
    "- One hot encoding"
   ]
  },
  {
   "cell_type": "code",
   "execution_count": 7,
   "id": "7b42ce7e",
   "metadata": {},
   "outputs": [],
   "source": [
    "abalone_dataprep_pipeline1 = Pipeline(steps=[\n",
    "    # == CATEGORICAL ENCODING\n",
    "    ('one_hot_encoder', OneHotEncoder(\n",
    "    variables=CATEGORICAL_VARS, drop_last=False))\n",
    "])"
   ]
  },
  {
   "cell_type": "code",
   "execution_count": 8,
   "id": "59c8b9af",
   "metadata": {},
   "outputs": [],
   "source": [
    "X_train_pipe1 = abalone_dataprep_pipeline1.fit_transform(X_train, y_train)"
   ]
  },
  {
   "cell_type": "markdown",
   "id": "40432c5e",
   "metadata": {},
   "source": [
    "### Pipeline 2\n",
    "- One hot encoding\n",
    "- BoxCox Transformeer"
   ]
  },
  {
   "cell_type": "code",
   "execution_count": 9,
   "id": "dfa5a626",
   "metadata": {},
   "outputs": [],
   "source": [
    "abalone_dataprep_pipeline2 = Pipeline(steps=[\n",
    "    # == CATEGORICAL ENCODING\n",
    "    ('one_hot_encoder', OneHotEncoder(\n",
    "    variables=CATEGORICAL_VARS, drop_last=False)),\n",
    "    \n",
    "    # ==== VARIABLE TRANSFORMATION\n",
    "    ('boxcox_transformer', BoxCoxTransformer(\n",
    "    variables=NUMERICAL_BOXCOX_VARS))    \n",
    "])"
   ]
  },
  {
   "cell_type": "code",
   "execution_count": 10,
   "id": "7dec2792",
   "metadata": {},
   "outputs": [],
   "source": [
    "X_train_pipe2 = abalone_dataprep_pipeline2.fit_transform(X_train, y_train)"
   ]
  },
  {
   "cell_type": "markdown",
   "id": "a9521b82",
   "metadata": {},
   "source": [
    "### Pipeline 3\n",
    "- One hot encoding\n",
    "- BoxCox Transformeer\n",
    "- Scaller"
   ]
  },
  {
   "cell_type": "code",
   "execution_count": 11,
   "id": "206a2641",
   "metadata": {},
   "outputs": [],
   "source": [
    "abalone_dataprep_pipeline3 = Pipeline(steps=[\n",
    "    # == CATEGORICAL ENCODING\n",
    "    ('one_hot_encoder', OneHotEncoder(\n",
    "    variables=CATEGORICAL_VARS, drop_last=False)),\n",
    "    \n",
    "    # ==== VARIABLE TRANSFORMATION\n",
    "    ('boxcox_transformer', BoxCoxTransformer(\n",
    "    variables=NUMERICAL_BOXCOX_VARS)),\n",
    "    \n",
    "    # === SCALLER\n",
    "    ('minmax_scaller', MinMaxScaler())\n",
    "    \n",
    "])"
   ]
  },
  {
   "cell_type": "code",
   "execution_count": 12,
   "id": "c1d2da58",
   "metadata": {},
   "outputs": [],
   "source": [
    "X_train_pipe3 = abalone_dataprep_pipeline3.fit_transform(X_train, y_train)"
   ]
  },
  {
   "cell_type": "markdown",
   "id": "9afb0f48",
   "metadata": {},
   "source": [
    "### Pipeline 4\n",
    "- One hot encoding\n",
    "- Scaller"
   ]
  },
  {
   "cell_type": "code",
   "execution_count": 13,
   "id": "12e4844d",
   "metadata": {},
   "outputs": [],
   "source": [
    "abalone_dataprep_pipeline4 = Pipeline(steps=[\n",
    "    # == CATEGORICAL ENCODING\n",
    "    ('one_hot_encoder', OneHotEncoder(\n",
    "    variables=CATEGORICAL_VARS, drop_last=False)),\n",
    "    \n",
    "    # === SCALLER\n",
    "    ('minmax_scaller', MinMaxScaler())\n",
    "    \n",
    "])"
   ]
  },
  {
   "cell_type": "code",
   "execution_count": 14,
   "id": "d1ca2c5e",
   "metadata": {},
   "outputs": [],
   "source": [
    "X_train_pipe4 = abalone_dataprep_pipeline4.fit_transform(X_train, y_train)"
   ]
  },
  {
   "cell_type": "markdown",
   "id": "09119517",
   "metadata": {},
   "source": [
    "### Linear regression"
   ]
  },
  {
   "cell_type": "code",
   "execution_count": 15,
   "id": "b70ddb55",
   "metadata": {},
   "outputs": [
    {
     "name": "stdout",
     "output_type": "stream",
     "text": [
      "ALREADY EXISTS\n"
     ]
    }
   ],
   "source": [
    "EXPERIMENT_NAME = \"abalone\"\n",
    "\n",
    "try:\n",
    "    mlflow.create_experiment(\"abalone\")\n",
    "    print(\"CREATING\")\n",
    "except:\n",
    "    print(\"ALREADY EXISTS\")\n",
    "\n",
    "mlflow.set_experiment(EXPERIMENT_NAME)"
   ]
  },
  {
   "cell_type": "code",
   "execution_count": 16,
   "id": "38e0a3ea",
   "metadata": {},
   "outputs": [],
   "source": [
    "def evaluate_regression_and_log(regression_model, X_train, y_train, params):    \n",
    "    regression_model = regression_model.fit(X_train, y_train)\n",
    "    \n",
    "    # metrics - train\n",
    "    y_train_pred = regression_model.predict(X_train)\n",
    "    rmse_train = mean_squared_error(y_train, y_train_pred, squared=False)\n",
    "    r2_train = r2_score(y_train, y_train_pred)\n",
    "    \n",
    "    # log\n",
    "    mlflow.start_run()\n",
    "\n",
    "    mlflow.log_metric(\"rmse_train\", rmse_train)\n",
    "    mlflow.log_metric(\"r2_train\", r2_train)\n",
    "\n",
    "    mlflow.sklearn.log_model(regression_model, \"model\")\n",
    "    mlflow.log_param(\"model_name\", type(regression_model).__name__)\n",
    "    mlflow.log_params(params)\n",
    "    \n",
    "    mlflow.end_run()"
   ]
  },
  {
   "cell_type": "code",
   "execution_count": 17,
   "id": "2545dba8",
   "metadata": {},
   "outputs": [],
   "source": [
    "lm = LinearRegression()"
   ]
  },
  {
   "cell_type": "markdown",
   "id": "a4117b6d",
   "metadata": {},
   "source": [
    "#### Pipeline 1"
   ]
  },
  {
   "cell_type": "code",
   "execution_count": 18,
   "id": "f96e139b",
   "metadata": {},
   "outputs": [],
   "source": [
    "params_pipe1 = {\n",
    "    \"boxcox_transformer\": \"false\",\n",
    "    \"minmax_scaller\": \"false\"}"
   ]
  },
  {
   "cell_type": "code",
   "execution_count": 19,
   "id": "2114abb3",
   "metadata": {},
   "outputs": [],
   "source": [
    "evaluate_regression_and_log(lm, X_train_pipe1, y_train, params_pipe1)"
   ]
  },
  {
   "cell_type": "markdown",
   "id": "5707d07d",
   "metadata": {},
   "source": [
    "#### Pipeline 2"
   ]
  },
  {
   "cell_type": "code",
   "execution_count": 20,
   "id": "35a738b9",
   "metadata": {},
   "outputs": [],
   "source": [
    "params_pipe2 = {\n",
    "    \"boxcox_transformer\": \"true\",\n",
    "    \"minmax_scaller\": \"false\"}"
   ]
  },
  {
   "cell_type": "code",
   "execution_count": 21,
   "id": "f4198655",
   "metadata": {},
   "outputs": [],
   "source": [
    "evaluate_regression_and_log(lm, X_train_pipe2, y_train, params_pipe2)"
   ]
  },
  {
   "cell_type": "markdown",
   "id": "29de0edb",
   "metadata": {},
   "source": [
    "#### Pipeline 3"
   ]
  },
  {
   "cell_type": "code",
   "execution_count": 22,
   "id": "b4aa8016",
   "metadata": {},
   "outputs": [],
   "source": [
    "params_pipe3 = {\n",
    "    \"boxcox_transformer\": \"true\",\n",
    "    \"minmax_scaller\": \"true\"}"
   ]
  },
  {
   "cell_type": "code",
   "execution_count": 23,
   "id": "0be5712b",
   "metadata": {},
   "outputs": [],
   "source": [
    "evaluate_regression_and_log(lm, X_train_pipe3, y_train, params_pipe3)"
   ]
  },
  {
   "cell_type": "markdown",
   "id": "020d3ac9",
   "metadata": {},
   "source": [
    "#### Pipeline 4"
   ]
  },
  {
   "cell_type": "code",
   "execution_count": 24,
   "id": "e82f6631",
   "metadata": {},
   "outputs": [],
   "source": [
    "params_pipe4 = {\n",
    "    \"boxcox_transformer\": \"false\",\n",
    "    \"minmax_scaller\": \"true\"}"
   ]
  },
  {
   "cell_type": "code",
   "execution_count": 25,
   "id": "3d7c51b9",
   "metadata": {},
   "outputs": [],
   "source": [
    "evaluate_regression_and_log(lm, X_train_pipe4, y_train, params_pipe4)"
   ]
  },
  {
   "cell_type": "markdown",
   "id": "f0bb2a06",
   "metadata": {},
   "source": [
    "Using boxcox transformer and/or minmax scaller didn't make a lot of difference. Thus, we will only use minmax scaller in the next steps."
   ]
  },
  {
   "cell_type": "code",
   "execution_count": 26,
   "id": "1c1cc1ca",
   "metadata": {},
   "outputs": [],
   "source": [
    "X_train_pipe4 = pd.DataFrame(abalone_dataprep_pipeline4.fit_transform(X_train, y_train))"
   ]
  },
  {
   "cell_type": "code",
   "execution_count": 27,
   "id": "9b923694",
   "metadata": {},
   "outputs": [],
   "source": [
    "X_test_pipe4 = pd.DataFrame(abalone_dataprep_pipeline4.transform(X_test))"
   ]
  },
  {
   "cell_type": "code",
   "execution_count": 28,
   "id": "80eca2b6",
   "metadata": {},
   "outputs": [],
   "source": [
    "X_train_pipe4.to_csv(\"../data/processed/abalone_xtrain.csv\", index=False)\n",
    "y_train.to_csv(\"../data/processed/abalone_ytrain.csv\", index=False)\n",
    "\n",
    "X_test_pipe4.to_csv(\"../data/processed/abalone_xtest.csv\", index=False)\n",
    "y_test.to_csv(\"../data/processed/abalone_ytest.csv\", index=False)"
   ]
  }
 ],
 "metadata": {
  "interpreter": {
   "hash": "26d55328adbbe5e7203cc0f430ba48fc666e5e8901edd2ec219b61a965225302"
  },
  "kernelspec": {
   "display_name": "Python 3 (ipykernel)",
   "language": "python",
   "name": "python3"
  },
  "language_info": {
   "codemirror_mode": {
    "name": "ipython",
    "version": 3
   },
   "file_extension": ".py",
   "mimetype": "text/x-python",
   "name": "python",
   "nbconvert_exporter": "python",
   "pygments_lexer": "ipython3",
   "version": "3.9.6"
  }
 },
 "nbformat": 4,
 "nbformat_minor": 5
}
