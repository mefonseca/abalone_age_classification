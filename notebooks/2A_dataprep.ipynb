{
 "cells": [
  {
   "cell_type": "markdown",
   "id": "7531d81e",
   "metadata": {},
   "source": [
    "# Abalone Project - Data preparation\n",
    "Maria Eugênia Fonseca\\\n",
    "2021/09/13"
   ]
  },
  {
   "cell_type": "code",
   "execution_count": 1,
   "id": "aba04d96",
   "metadata": {},
   "outputs": [],
   "source": [
    "import pandas as pd\n",
    "import matplotlib.pyplot as plt\n",
    "\n",
    "from sklearn.model_selection import train_test_split\n",
    "from sklearn.preprocessing import MinMaxScaler\n",
    "\n",
    "from feature_engine.encoding import OneHotEncoder\n",
    "from feature_engine.transformation import BoxCoxTransformer"
   ]
  },
  {
   "cell_type": "code",
   "execution_count": 2,
   "id": "a541295b",
   "metadata": {},
   "outputs": [],
   "source": [
    "col_names = ['sex', 'length', 'diameter', 'height', 'whole_weight', 'shucked_weight', 'viscera_weight', 'shell_weight', 'rings']\n",
    "\n",
    "data = pd.read_csv(\"../data/raw/abalone_data.txt\", header = None, names=col_names)"
   ]
  },
  {
   "cell_type": "markdown",
   "id": "b2490cb9",
   "metadata": {},
   "source": [
    "#### Creating Age variable:"
   ]
  },
  {
   "cell_type": "code",
   "execution_count": 3,
   "id": "615a6212",
   "metadata": {},
   "outputs": [],
   "source": [
    "data['age'] = data['rings'] + 1.5\n",
    "data.drop('rings', axis=1, inplace=True)"
   ]
  },
  {
   "cell_type": "markdown",
   "id": "9be05d49",
   "metadata": {},
   "source": [
    "#### Removing observations with zero height:"
   ]
  },
  {
   "cell_type": "code",
   "execution_count": 4,
   "id": "608da493",
   "metadata": {},
   "outputs": [],
   "source": [
    "data = data[data['height'] != 0]"
   ]
  },
  {
   "cell_type": "markdown",
   "id": "8178f5e2",
   "metadata": {},
   "source": [
    "#### Separate into train and test before feature eng:"
   ]
  },
  {
   "cell_type": "code",
   "execution_count": 5,
   "id": "3791cd96",
   "metadata": {},
   "outputs": [],
   "source": [
    "X = data.drop('age', axis=1)\n",
    "y = data['age']\n",
    "\n",
    "X_train, X_test, y_train, y_test = train_test_split(X, y, test_size=0.2, random_state=123, stratify=data['sex'])"
   ]
  },
  {
   "cell_type": "code",
   "execution_count": 6,
   "id": "94211a31",
   "metadata": {},
   "outputs": [
    {
     "data": {
      "text/plain": [
       "((3340, 8), (835, 8))"
      ]
     },
     "execution_count": 6,
     "metadata": {},
     "output_type": "execute_result"
    }
   ],
   "source": [
    "X_train.shape, X_test.shape"
   ]
  },
  {
   "cell_type": "code",
   "execution_count": 7,
   "id": "8312aabb",
   "metadata": {},
   "outputs": [
    {
     "data": {
      "text/plain": [
       "M    1222\n",
       "I    1072\n",
       "F    1046\n",
       "Name: sex, dtype: int64"
      ]
     },
     "execution_count": 7,
     "metadata": {},
     "output_type": "execute_result"
    }
   ],
   "source": [
    "X_train['sex'].value_counts()"
   ]
  },
  {
   "cell_type": "code",
   "execution_count": 8,
   "id": "b1a2d1f8",
   "metadata": {},
   "outputs": [
    {
     "data": {
      "text/plain": [
       "M    306\n",
       "I    268\n",
       "F    261\n",
       "Name: sex, dtype: int64"
      ]
     },
     "execution_count": 8,
     "metadata": {},
     "output_type": "execute_result"
    }
   ],
   "source": [
    "X_test['sex'].value_counts()"
   ]
  },
  {
   "cell_type": "markdown",
   "id": "8ed90b70",
   "metadata": {},
   "source": [
    "#### Encoding categorical variable:"
   ]
  },
  {
   "cell_type": "code",
   "execution_count": 9,
   "id": "70a43711",
   "metadata": {},
   "outputs": [
    {
     "data": {
      "text/html": [
       "<div>\n",
       "<style scoped>\n",
       "    .dataframe tbody tr th:only-of-type {\n",
       "        vertical-align: middle;\n",
       "    }\n",
       "\n",
       "    .dataframe tbody tr th {\n",
       "        vertical-align: top;\n",
       "    }\n",
       "\n",
       "    .dataframe thead th {\n",
       "        text-align: right;\n",
       "    }\n",
       "</style>\n",
       "<table border=\"1\" class=\"dataframe\">\n",
       "  <thead>\n",
       "    <tr style=\"text-align: right;\">\n",
       "      <th></th>\n",
       "      <th>sex</th>\n",
       "      <th>length</th>\n",
       "      <th>diameter</th>\n",
       "      <th>height</th>\n",
       "      <th>whole_weight</th>\n",
       "      <th>shucked_weight</th>\n",
       "      <th>viscera_weight</th>\n",
       "      <th>shell_weight</th>\n",
       "    </tr>\n",
       "  </thead>\n",
       "  <tbody>\n",
       "    <tr>\n",
       "      <th>2659</th>\n",
       "      <td>F</td>\n",
       "      <td>0.550</td>\n",
       "      <td>0.440</td>\n",
       "      <td>0.135</td>\n",
       "      <td>0.8435</td>\n",
       "      <td>0.4340</td>\n",
       "      <td>0.1995</td>\n",
       "      <td>0.1850</td>\n",
       "    </tr>\n",
       "    <tr>\n",
       "      <th>2901</th>\n",
       "      <td>I</td>\n",
       "      <td>0.560</td>\n",
       "      <td>0.430</td>\n",
       "      <td>0.130</td>\n",
       "      <td>0.7280</td>\n",
       "      <td>0.3355</td>\n",
       "      <td>0.1435</td>\n",
       "      <td>0.2175</td>\n",
       "    </tr>\n",
       "    <tr>\n",
       "      <th>1250</th>\n",
       "      <td>I</td>\n",
       "      <td>0.400</td>\n",
       "      <td>0.290</td>\n",
       "      <td>0.100</td>\n",
       "      <td>0.2675</td>\n",
       "      <td>0.1205</td>\n",
       "      <td>0.0605</td>\n",
       "      <td>0.0765</td>\n",
       "    </tr>\n",
       "    <tr>\n",
       "      <th>1686</th>\n",
       "      <td>M</td>\n",
       "      <td>0.620</td>\n",
       "      <td>0.480</td>\n",
       "      <td>0.150</td>\n",
       "      <td>1.2660</td>\n",
       "      <td>0.6285</td>\n",
       "      <td>0.2575</td>\n",
       "      <td>0.3090</td>\n",
       "    </tr>\n",
       "    <tr>\n",
       "      <th>1752</th>\n",
       "      <td>M</td>\n",
       "      <td>0.710</td>\n",
       "      <td>0.560</td>\n",
       "      <td>0.220</td>\n",
       "      <td>2.0150</td>\n",
       "      <td>0.9215</td>\n",
       "      <td>0.4540</td>\n",
       "      <td>0.5660</td>\n",
       "    </tr>\n",
       "    <tr>\n",
       "      <th>...</th>\n",
       "      <td>...</td>\n",
       "      <td>...</td>\n",
       "      <td>...</td>\n",
       "      <td>...</td>\n",
       "      <td>...</td>\n",
       "      <td>...</td>\n",
       "      <td>...</td>\n",
       "      <td>...</td>\n",
       "    </tr>\n",
       "    <tr>\n",
       "      <th>113</th>\n",
       "      <td>M</td>\n",
       "      <td>0.425</td>\n",
       "      <td>0.350</td>\n",
       "      <td>0.105</td>\n",
       "      <td>0.3930</td>\n",
       "      <td>0.1300</td>\n",
       "      <td>0.0630</td>\n",
       "      <td>0.1650</td>\n",
       "    </tr>\n",
       "    <tr>\n",
       "      <th>3377</th>\n",
       "      <td>I</td>\n",
       "      <td>0.255</td>\n",
       "      <td>0.190</td>\n",
       "      <td>0.070</td>\n",
       "      <td>0.0815</td>\n",
       "      <td>0.0280</td>\n",
       "      <td>0.0160</td>\n",
       "      <td>0.0310</td>\n",
       "    </tr>\n",
       "    <tr>\n",
       "      <th>685</th>\n",
       "      <td>M</td>\n",
       "      <td>0.565</td>\n",
       "      <td>0.440</td>\n",
       "      <td>0.185</td>\n",
       "      <td>0.9090</td>\n",
       "      <td>0.3440</td>\n",
       "      <td>0.2325</td>\n",
       "      <td>0.2550</td>\n",
       "    </tr>\n",
       "    <tr>\n",
       "      <th>3140</th>\n",
       "      <td>M</td>\n",
       "      <td>0.550</td>\n",
       "      <td>0.425</td>\n",
       "      <td>0.160</td>\n",
       "      <td>0.9700</td>\n",
       "      <td>0.2885</td>\n",
       "      <td>0.1390</td>\n",
       "      <td>0.4800</td>\n",
       "    </tr>\n",
       "    <tr>\n",
       "      <th>1598</th>\n",
       "      <td>I</td>\n",
       "      <td>0.530</td>\n",
       "      <td>0.400</td>\n",
       "      <td>0.145</td>\n",
       "      <td>0.5550</td>\n",
       "      <td>0.1935</td>\n",
       "      <td>0.1305</td>\n",
       "      <td>0.1950</td>\n",
       "    </tr>\n",
       "  </tbody>\n",
       "</table>\n",
       "<p>3340 rows × 8 columns</p>\n",
       "</div>"
      ],
      "text/plain": [
       "     sex  length  diameter  height  whole_weight  shucked_weight  \\\n",
       "2659   F   0.550     0.440   0.135        0.8435          0.4340   \n",
       "2901   I   0.560     0.430   0.130        0.7280          0.3355   \n",
       "1250   I   0.400     0.290   0.100        0.2675          0.1205   \n",
       "1686   M   0.620     0.480   0.150        1.2660          0.6285   \n",
       "1752   M   0.710     0.560   0.220        2.0150          0.9215   \n",
       "...   ..     ...       ...     ...           ...             ...   \n",
       "113    M   0.425     0.350   0.105        0.3930          0.1300   \n",
       "3377   I   0.255     0.190   0.070        0.0815          0.0280   \n",
       "685    M   0.565     0.440   0.185        0.9090          0.3440   \n",
       "3140   M   0.550     0.425   0.160        0.9700          0.2885   \n",
       "1598   I   0.530     0.400   0.145        0.5550          0.1935   \n",
       "\n",
       "      viscera_weight  shell_weight  \n",
       "2659          0.1995        0.1850  \n",
       "2901          0.1435        0.2175  \n",
       "1250          0.0605        0.0765  \n",
       "1686          0.2575        0.3090  \n",
       "1752          0.4540        0.5660  \n",
       "...              ...           ...  \n",
       "113           0.0630        0.1650  \n",
       "3377          0.0160        0.0310  \n",
       "685           0.2325        0.2550  \n",
       "3140          0.1390        0.4800  \n",
       "1598          0.1305        0.1950  \n",
       "\n",
       "[3340 rows x 8 columns]"
      ]
     },
     "execution_count": 9,
     "metadata": {},
     "output_type": "execute_result"
    }
   ],
   "source": [
    "X_train"
   ]
  },
  {
   "cell_type": "code",
   "execution_count": 10,
   "id": "00cdf8ec",
   "metadata": {},
   "outputs": [],
   "source": [
    "encoder = OneHotEncoder(variables=['sex'], drop_last=False)\n",
    "\n",
    "X_train = encoder.fit_transform(X_train)\n",
    "X_test = encoder.transform(X_test)"
   ]
  },
  {
   "cell_type": "code",
   "execution_count": 11,
   "id": "de6e0fbd",
   "metadata": {},
   "outputs": [
    {
     "data": {
      "text/html": [
       "<div>\n",
       "<style scoped>\n",
       "    .dataframe tbody tr th:only-of-type {\n",
       "        vertical-align: middle;\n",
       "    }\n",
       "\n",
       "    .dataframe tbody tr th {\n",
       "        vertical-align: top;\n",
       "    }\n",
       "\n",
       "    .dataframe thead th {\n",
       "        text-align: right;\n",
       "    }\n",
       "</style>\n",
       "<table border=\"1\" class=\"dataframe\">\n",
       "  <thead>\n",
       "    <tr style=\"text-align: right;\">\n",
       "      <th></th>\n",
       "      <th>length</th>\n",
       "      <th>diameter</th>\n",
       "      <th>height</th>\n",
       "      <th>whole_weight</th>\n",
       "      <th>shucked_weight</th>\n",
       "      <th>viscera_weight</th>\n",
       "      <th>shell_weight</th>\n",
       "      <th>sex_F</th>\n",
       "      <th>sex_I</th>\n",
       "      <th>sex_M</th>\n",
       "    </tr>\n",
       "  </thead>\n",
       "  <tbody>\n",
       "    <tr>\n",
       "      <th>2659</th>\n",
       "      <td>0.550</td>\n",
       "      <td>0.440</td>\n",
       "      <td>0.135</td>\n",
       "      <td>0.8435</td>\n",
       "      <td>0.4340</td>\n",
       "      <td>0.1995</td>\n",
       "      <td>0.1850</td>\n",
       "      <td>1</td>\n",
       "      <td>0</td>\n",
       "      <td>0</td>\n",
       "    </tr>\n",
       "    <tr>\n",
       "      <th>2901</th>\n",
       "      <td>0.560</td>\n",
       "      <td>0.430</td>\n",
       "      <td>0.130</td>\n",
       "      <td>0.7280</td>\n",
       "      <td>0.3355</td>\n",
       "      <td>0.1435</td>\n",
       "      <td>0.2175</td>\n",
       "      <td>0</td>\n",
       "      <td>1</td>\n",
       "      <td>0</td>\n",
       "    </tr>\n",
       "    <tr>\n",
       "      <th>1250</th>\n",
       "      <td>0.400</td>\n",
       "      <td>0.290</td>\n",
       "      <td>0.100</td>\n",
       "      <td>0.2675</td>\n",
       "      <td>0.1205</td>\n",
       "      <td>0.0605</td>\n",
       "      <td>0.0765</td>\n",
       "      <td>0</td>\n",
       "      <td>1</td>\n",
       "      <td>0</td>\n",
       "    </tr>\n",
       "    <tr>\n",
       "      <th>1686</th>\n",
       "      <td>0.620</td>\n",
       "      <td>0.480</td>\n",
       "      <td>0.150</td>\n",
       "      <td>1.2660</td>\n",
       "      <td>0.6285</td>\n",
       "      <td>0.2575</td>\n",
       "      <td>0.3090</td>\n",
       "      <td>0</td>\n",
       "      <td>0</td>\n",
       "      <td>1</td>\n",
       "    </tr>\n",
       "    <tr>\n",
       "      <th>1752</th>\n",
       "      <td>0.710</td>\n",
       "      <td>0.560</td>\n",
       "      <td>0.220</td>\n",
       "      <td>2.0150</td>\n",
       "      <td>0.9215</td>\n",
       "      <td>0.4540</td>\n",
       "      <td>0.5660</td>\n",
       "      <td>0</td>\n",
       "      <td>0</td>\n",
       "      <td>1</td>\n",
       "    </tr>\n",
       "    <tr>\n",
       "      <th>...</th>\n",
       "      <td>...</td>\n",
       "      <td>...</td>\n",
       "      <td>...</td>\n",
       "      <td>...</td>\n",
       "      <td>...</td>\n",
       "      <td>...</td>\n",
       "      <td>...</td>\n",
       "      <td>...</td>\n",
       "      <td>...</td>\n",
       "      <td>...</td>\n",
       "    </tr>\n",
       "    <tr>\n",
       "      <th>113</th>\n",
       "      <td>0.425</td>\n",
       "      <td>0.350</td>\n",
       "      <td>0.105</td>\n",
       "      <td>0.3930</td>\n",
       "      <td>0.1300</td>\n",
       "      <td>0.0630</td>\n",
       "      <td>0.1650</td>\n",
       "      <td>0</td>\n",
       "      <td>0</td>\n",
       "      <td>1</td>\n",
       "    </tr>\n",
       "    <tr>\n",
       "      <th>3377</th>\n",
       "      <td>0.255</td>\n",
       "      <td>0.190</td>\n",
       "      <td>0.070</td>\n",
       "      <td>0.0815</td>\n",
       "      <td>0.0280</td>\n",
       "      <td>0.0160</td>\n",
       "      <td>0.0310</td>\n",
       "      <td>0</td>\n",
       "      <td>1</td>\n",
       "      <td>0</td>\n",
       "    </tr>\n",
       "    <tr>\n",
       "      <th>685</th>\n",
       "      <td>0.565</td>\n",
       "      <td>0.440</td>\n",
       "      <td>0.185</td>\n",
       "      <td>0.9090</td>\n",
       "      <td>0.3440</td>\n",
       "      <td>0.2325</td>\n",
       "      <td>0.2550</td>\n",
       "      <td>0</td>\n",
       "      <td>0</td>\n",
       "      <td>1</td>\n",
       "    </tr>\n",
       "    <tr>\n",
       "      <th>3140</th>\n",
       "      <td>0.550</td>\n",
       "      <td>0.425</td>\n",
       "      <td>0.160</td>\n",
       "      <td>0.9700</td>\n",
       "      <td>0.2885</td>\n",
       "      <td>0.1390</td>\n",
       "      <td>0.4800</td>\n",
       "      <td>0</td>\n",
       "      <td>0</td>\n",
       "      <td>1</td>\n",
       "    </tr>\n",
       "    <tr>\n",
       "      <th>1598</th>\n",
       "      <td>0.530</td>\n",
       "      <td>0.400</td>\n",
       "      <td>0.145</td>\n",
       "      <td>0.5550</td>\n",
       "      <td>0.1935</td>\n",
       "      <td>0.1305</td>\n",
       "      <td>0.1950</td>\n",
       "      <td>0</td>\n",
       "      <td>1</td>\n",
       "      <td>0</td>\n",
       "    </tr>\n",
       "  </tbody>\n",
       "</table>\n",
       "<p>3340 rows × 10 columns</p>\n",
       "</div>"
      ],
      "text/plain": [
       "      length  diameter  height  whole_weight  shucked_weight  viscera_weight  \\\n",
       "2659   0.550     0.440   0.135        0.8435          0.4340          0.1995   \n",
       "2901   0.560     0.430   0.130        0.7280          0.3355          0.1435   \n",
       "1250   0.400     0.290   0.100        0.2675          0.1205          0.0605   \n",
       "1686   0.620     0.480   0.150        1.2660          0.6285          0.2575   \n",
       "1752   0.710     0.560   0.220        2.0150          0.9215          0.4540   \n",
       "...      ...       ...     ...           ...             ...             ...   \n",
       "113    0.425     0.350   0.105        0.3930          0.1300          0.0630   \n",
       "3377   0.255     0.190   0.070        0.0815          0.0280          0.0160   \n",
       "685    0.565     0.440   0.185        0.9090          0.3440          0.2325   \n",
       "3140   0.550     0.425   0.160        0.9700          0.2885          0.1390   \n",
       "1598   0.530     0.400   0.145        0.5550          0.1935          0.1305   \n",
       "\n",
       "      shell_weight  sex_F  sex_I  sex_M  \n",
       "2659        0.1850      1      0      0  \n",
       "2901        0.2175      0      1      0  \n",
       "1250        0.0765      0      1      0  \n",
       "1686        0.3090      0      0      1  \n",
       "1752        0.5660      0      0      1  \n",
       "...            ...    ...    ...    ...  \n",
       "113         0.1650      0      0      1  \n",
       "3377        0.0310      0      1      0  \n",
       "685         0.2550      0      0      1  \n",
       "3140        0.4800      0      0      1  \n",
       "1598        0.1950      0      1      0  \n",
       "\n",
       "[3340 rows x 10 columns]"
      ]
     },
     "execution_count": 11,
     "metadata": {},
     "output_type": "execute_result"
    }
   ],
   "source": [
    "X_train"
   ]
  },
  {
   "cell_type": "markdown",
   "id": "7bf8d1e2",
   "metadata": {},
   "source": [
    "#### Scalling que numerical variables:"
   ]
  },
  {
   "cell_type": "code",
   "execution_count": 12,
   "id": "61a17938",
   "metadata": {},
   "outputs": [
    {
     "data": {
      "text/plain": [
       "<AxesSubplot:>"
      ]
     },
     "execution_count": 12,
     "metadata": {},
     "output_type": "execute_result"
    },
    {
     "data": {
      "image/png": "[encoded data removed]",
      "text/plain": [
       "<Figure size 432x288 with 1 Axes>"
      ]
     },
     "metadata": {
      "needs_background": "light"
     },
     "output_type": "display_data"
    }
   ],
   "source": [
    "X_train['shucked_weight'].hist(bins=20)"
   ]
  },
  {
   "cell_type": "code",
   "execution_count": 13,
   "id": "9c04ee2c",
   "metadata": {},
   "outputs": [
    {
     "data": {
      "text/plain": [
       "<AxesSubplot:>"
      ]
     },
     "execution_count": 13,
     "metadata": {},
     "output_type": "execute_result"
    },
    {
     "data": {
      "image/png": "[encoded data removed]",
      "text/plain": [
       "<Figure size 432x288 with 1 Axes>"
      ]
     },
     "metadata": {
      "needs_background": "light"
     },
     "output_type": "display_data"
    }
   ],
   "source": [
    "X_train['height'].hist(bins=30)"
   ]
  },
  {
   "cell_type": "code",
   "execution_count": 14,
   "id": "1c31af30",
   "metadata": {},
   "outputs": [],
   "source": [
    "bc = BoxCoxTransformer(variables=['length', 'diameter', 'height', 'whole_weight',\n",
    "                                  'shucked_weight', 'viscera_weight', 'shell_weight'])\n",
    "\n",
    "X_train = bc.fit_transform(X_train)\n",
    "X_test = bc.transform(X_test)"
   ]
  },
  {
   "cell_type": "code",
   "execution_count": 15,
   "id": "bedfb101",
   "metadata": {},
   "outputs": [
    {
     "data": {
      "text/html": [
       "<div>\n",
       "<style scoped>\n",
       "    .dataframe tbody tr th:only-of-type {\n",
       "        vertical-align: middle;\n",
       "    }\n",
       "\n",
       "    .dataframe tbody tr th {\n",
       "        vertical-align: top;\n",
       "    }\n",
       "\n",
       "    .dataframe thead th {\n",
       "        text-align: right;\n",
       "    }\n",
       "</style>\n",
       "<table border=\"1\" class=\"dataframe\">\n",
       "  <thead>\n",
       "    <tr style=\"text-align: right;\">\n",
       "      <th></th>\n",
       "      <th>length</th>\n",
       "      <th>diameter</th>\n",
       "      <th>height</th>\n",
       "      <th>whole_weight</th>\n",
       "      <th>shucked_weight</th>\n",
       "      <th>viscera_weight</th>\n",
       "      <th>shell_weight</th>\n",
       "      <th>sex_F</th>\n",
       "      <th>sex_I</th>\n",
       "      <th>sex_M</th>\n",
       "    </tr>\n",
       "  </thead>\n",
       "  <tbody>\n",
       "    <tr>\n",
       "      <th>count</th>\n",
       "      <td>3340.000000</td>\n",
       "      <td>3340.000000</td>\n",
       "      <td>3340.000000</td>\n",
       "      <td>3340.000000</td>\n",
       "      <td>3340.000000</td>\n",
       "      <td>3340.000000</td>\n",
       "      <td>3340.000000</td>\n",
       "      <td>3340.000000</td>\n",
       "      <td>3340.000000</td>\n",
       "      <td>3340.000000</td>\n",
       "    </tr>\n",
       "    <tr>\n",
       "      <th>mean</th>\n",
       "      <td>-0.364931</td>\n",
       "      <td>-0.439005</td>\n",
       "      <td>-1.146911</td>\n",
       "      <td>-0.248782</td>\n",
       "      <td>-0.842267</td>\n",
       "      <td>-1.144661</td>\n",
       "      <td>-1.005460</td>\n",
       "      <td>0.313174</td>\n",
       "      <td>0.320958</td>\n",
       "      <td>0.365868</td>\n",
       "    </tr>\n",
       "    <tr>\n",
       "      <th>std</th>\n",
       "      <td>0.062672</td>\n",
       "      <td>0.045033</td>\n",
       "      <td>0.088480</td>\n",
       "      <td>0.548830</td>\n",
       "      <td>0.367720</td>\n",
       "      <td>0.246730</td>\n",
       "      <td>0.261805</td>\n",
       "      <td>0.463854</td>\n",
       "      <td>0.466915</td>\n",
       "      <td>0.481745</td>\n",
       "    </tr>\n",
       "    <tr>\n",
       "      <th>min</th>\n",
       "      <td>-0.523734</td>\n",
       "      <td>-0.551302</td>\n",
       "      <td>-1.533558</td>\n",
       "      <td>-1.669926</td>\n",
       "      <td>-1.816218</td>\n",
       "      <td>-1.793852</td>\n",
       "      <td>-1.684457</td>\n",
       "      <td>0.000000</td>\n",
       "      <td>0.000000</td>\n",
       "      <td>0.000000</td>\n",
       "    </tr>\n",
       "    <tr>\n",
       "      <th>25%</th>\n",
       "      <td>-0.409620</td>\n",
       "      <td>-0.470870</td>\n",
       "      <td>-1.197659</td>\n",
       "      <td>-0.639856</td>\n",
       "      <td>-1.099845</td>\n",
       "      <td>-1.321401</td>\n",
       "      <td>-1.190538</td>\n",
       "      <td>0.000000</td>\n",
       "      <td>0.000000</td>\n",
       "      <td>0.000000</td>\n",
       "    </tr>\n",
       "    <tr>\n",
       "      <th>50%</th>\n",
       "      <td>-0.360624</td>\n",
       "      <td>-0.435888</td>\n",
       "      <td>-1.142181</td>\n",
       "      <td>-0.204857</td>\n",
       "      <td>-0.818799</td>\n",
       "      <td>-1.129717</td>\n",
       "      <td>-0.979766</td>\n",
       "      <td>0.000000</td>\n",
       "      <td>0.000000</td>\n",
       "      <td>0.000000</td>\n",
       "    </tr>\n",
       "    <tr>\n",
       "      <th>75%</th>\n",
       "      <td>-0.317643</td>\n",
       "      <td>-0.406823</td>\n",
       "      <td>-1.090426</td>\n",
       "      <td>0.144196</td>\n",
       "      <td>-0.579433</td>\n",
       "      <td>-0.965977</td>\n",
       "      <td>-0.825350</td>\n",
       "      <td>1.000000</td>\n",
       "      <td>1.000000</td>\n",
       "      <td>1.000000</td>\n",
       "    </tr>\n",
       "    <tr>\n",
       "      <th>max</th>\n",
       "      <td>-0.169575</td>\n",
       "      <td>-0.299477</td>\n",
       "      <td>0.126915</td>\n",
       "      <td>1.397487</td>\n",
       "      <td>0.326516</td>\n",
       "      <td>-0.254768</td>\n",
       "      <td>0.004995</td>\n",
       "      <td>1.000000</td>\n",
       "      <td>1.000000</td>\n",
       "      <td>1.000000</td>\n",
       "    </tr>\n",
       "  </tbody>\n",
       "</table>\n",
       "</div>"
      ],
      "text/plain": [
       "            length     diameter       height  whole_weight  shucked_weight  \\\n",
       "count  3340.000000  3340.000000  3340.000000   3340.000000     3340.000000   \n",
       "mean     -0.364931    -0.439005    -1.146911     -0.248782       -0.842267   \n",
       "std       0.062672     0.045033     0.088480      0.548830        0.367720   \n",
       "min      -0.523734    -0.551302    -1.533558     -1.669926       -1.816218   \n",
       "25%      -0.409620    -0.470870    -1.197659     -0.639856       -1.099845   \n",
       "50%      -0.360624    -0.435888    -1.142181     -0.204857       -0.818799   \n",
       "75%      -0.317643    -0.406823    -1.090426      0.144196       -0.579433   \n",
       "max      -0.169575    -0.299477     0.126915      1.397487        0.326516   \n",
       "\n",
       "       viscera_weight  shell_weight        sex_F        sex_I        sex_M  \n",
       "count     3340.000000   3340.000000  3340.000000  3340.000000  3340.000000  \n",
       "mean        -1.144661     -1.005460     0.313174     0.320958     0.365868  \n",
       "std          0.246730      0.261805     0.463854     0.466915     0.481745  \n",
       "min         -1.793852     -1.684457     0.000000     0.000000     0.000000  \n",
       "25%         -1.321401     -1.190538     0.000000     0.000000     0.000000  \n",
       "50%         -1.129717     -0.979766     0.000000     0.000000     0.000000  \n",
       "75%         -0.965977     -0.825350     1.000000     1.000000     1.000000  \n",
       "max         -0.254768      0.004995     1.000000     1.000000     1.000000  "
      ]
     },
     "execution_count": 15,
     "metadata": {},
     "output_type": "execute_result"
    }
   ],
   "source": [
    "X_train.describe()"
   ]
  },
  {
   "cell_type": "markdown",
   "id": "7ad5357b",
   "metadata": {},
   "source": [
    "#### For use in linear models, features need to be scaled."
   ]
  },
  {
   "cell_type": "code",
   "execution_count": 16,
   "id": "fdacf93c",
   "metadata": {},
   "outputs": [],
   "source": [
    "scaler = MinMaxScaler()\n",
    "\n",
    "#  fit  the scaler to the train set\n",
    "scaler.fit(X_train) \n",
    "\n",
    "# sklearn returns numpy arrays, so we wrap the array with a pandas dataframe\n",
    "\n",
    "X_train = pd.DataFrame(\n",
    "    scaler.transform(X_train),\n",
    "    columns = X_train.columns\n",
    ")\n",
    "\n",
    "X_test = pd.DataFrame(\n",
    "    scaler.transform(X_test),\n",
    "    columns = X_train.columns\n",
    ")"
   ]
  },
  {
   "cell_type": "code",
   "execution_count": 17,
   "id": "edf7cc18",
   "metadata": {},
   "outputs": [
    {
     "data": {
      "text/html": [
       "<div>\n",
       "<style scoped>\n",
       "    .dataframe tbody tr th:only-of-type {\n",
       "        vertical-align: middle;\n",
       "    }\n",
       "\n",
       "    .dataframe tbody tr th {\n",
       "        vertical-align: top;\n",
       "    }\n",
       "\n",
       "    .dataframe thead th {\n",
       "        text-align: right;\n",
       "    }\n",
       "</style>\n",
       "<table border=\"1\" class=\"dataframe\">\n",
       "  <thead>\n",
       "    <tr style=\"text-align: right;\">\n",
       "      <th></th>\n",
       "      <th>length</th>\n",
       "      <th>diameter</th>\n",
       "      <th>height</th>\n",
       "      <th>whole_weight</th>\n",
       "      <th>shucked_weight</th>\n",
       "      <th>viscera_weight</th>\n",
       "      <th>shell_weight</th>\n",
       "      <th>sex_F</th>\n",
       "      <th>sex_I</th>\n",
       "      <th>sex_M</th>\n",
       "    </tr>\n",
       "  </thead>\n",
       "  <tbody>\n",
       "    <tr>\n",
       "      <th>count</th>\n",
       "      <td>3340.000000</td>\n",
       "      <td>3340.000000</td>\n",
       "      <td>3340.000000</td>\n",
       "      <td>3340.000000</td>\n",
       "      <td>3340.000000</td>\n",
       "      <td>3340.000000</td>\n",
       "      <td>3340.000000</td>\n",
       "      <td>3340.000000</td>\n",
       "      <td>3340.000000</td>\n",
       "      <td>3340.000000</td>\n",
       "    </tr>\n",
       "    <tr>\n",
       "      <th>mean</th>\n",
       "      <td>0.448395</td>\n",
       "      <td>0.445934</td>\n",
       "      <td>0.232854</td>\n",
       "      <td>0.463304</td>\n",
       "      <td>0.454536</td>\n",
       "      <td>0.421804</td>\n",
       "      <td>0.401904</td>\n",
       "      <td>0.313174</td>\n",
       "      <td>0.320958</td>\n",
       "      <td>0.365868</td>\n",
       "    </tr>\n",
       "    <tr>\n",
       "      <th>std</th>\n",
       "      <td>0.176960</td>\n",
       "      <td>0.178827</td>\n",
       "      <td>0.053286</td>\n",
       "      <td>0.178923</td>\n",
       "      <td>0.171613</td>\n",
       "      <td>0.160310</td>\n",
       "      <td>0.154964</td>\n",
       "      <td>0.463854</td>\n",
       "      <td>0.466915</td>\n",
       "      <td>0.481745</td>\n",
       "    </tr>\n",
       "    <tr>\n",
       "      <th>min</th>\n",
       "      <td>0.000000</td>\n",
       "      <td>0.000000</td>\n",
       "      <td>0.000000</td>\n",
       "      <td>0.000000</td>\n",
       "      <td>0.000000</td>\n",
       "      <td>0.000000</td>\n",
       "      <td>0.000000</td>\n",
       "      <td>0.000000</td>\n",
       "      <td>0.000000</td>\n",
       "      <td>0.000000</td>\n",
       "    </tr>\n",
       "    <tr>\n",
       "      <th>25%</th>\n",
       "      <td>0.322211</td>\n",
       "      <td>0.319399</td>\n",
       "      <td>0.202291</td>\n",
       "      <td>0.335811</td>\n",
       "      <td>0.334327</td>\n",
       "      <td>0.306969</td>\n",
       "      <td>0.292355</td>\n",
       "      <td>0.000000</td>\n",
       "      <td>0.000000</td>\n",
       "      <td>0.000000</td>\n",
       "    </tr>\n",
       "    <tr>\n",
       "      <th>50%</th>\n",
       "      <td>0.460557</td>\n",
       "      <td>0.458311</td>\n",
       "      <td>0.235702</td>\n",
       "      <td>0.477624</td>\n",
       "      <td>0.465489</td>\n",
       "      <td>0.431513</td>\n",
       "      <td>0.417112</td>\n",
       "      <td>0.000000</td>\n",
       "      <td>0.000000</td>\n",
       "      <td>0.000000</td>\n",
       "    </tr>\n",
       "    <tr>\n",
       "      <th>75%</th>\n",
       "      <td>0.581917</td>\n",
       "      <td>0.573728</td>\n",
       "      <td>0.266871</td>\n",
       "      <td>0.591418</td>\n",
       "      <td>0.577200</td>\n",
       "      <td>0.537901</td>\n",
       "      <td>0.508512</td>\n",
       "      <td>1.000000</td>\n",
       "      <td>1.000000</td>\n",
       "      <td>1.000000</td>\n",
       "    </tr>\n",
       "    <tr>\n",
       "      <th>max</th>\n",
       "      <td>1.000000</td>\n",
       "      <td>1.000000</td>\n",
       "      <td>1.000000</td>\n",
       "      <td>1.000000</td>\n",
       "      <td>1.000000</td>\n",
       "      <td>1.000000</td>\n",
       "      <td>1.000000</td>\n",
       "      <td>1.000000</td>\n",
       "      <td>1.000000</td>\n",
       "      <td>1.000000</td>\n",
       "    </tr>\n",
       "  </tbody>\n",
       "</table>\n",
       "</div>"
      ],
      "text/plain": [
       "            length     diameter       height  whole_weight  shucked_weight  \\\n",
       "count  3340.000000  3340.000000  3340.000000   3340.000000     3340.000000   \n",
       "mean      0.448395     0.445934     0.232854      0.463304        0.454536   \n",
       "std       0.176960     0.178827     0.053286      0.178923        0.171613   \n",
       "min       0.000000     0.000000     0.000000      0.000000        0.000000   \n",
       "25%       0.322211     0.319399     0.202291      0.335811        0.334327   \n",
       "50%       0.460557     0.458311     0.235702      0.477624        0.465489   \n",
       "75%       0.581917     0.573728     0.266871      0.591418        0.577200   \n",
       "max       1.000000     1.000000     1.000000      1.000000        1.000000   \n",
       "\n",
       "       viscera_weight  shell_weight        sex_F        sex_I        sex_M  \n",
       "count     3340.000000   3340.000000  3340.000000  3340.000000  3340.000000  \n",
       "mean         0.421804      0.401904     0.313174     0.320958     0.365868  \n",
       "std          0.160310      0.154964     0.463854     0.466915     0.481745  \n",
       "min          0.000000      0.000000     0.000000     0.000000     0.000000  \n",
       "25%          0.306969      0.292355     0.000000     0.000000     0.000000  \n",
       "50%          0.431513      0.417112     0.000000     0.000000     0.000000  \n",
       "75%          0.537901      0.508512     1.000000     1.000000     1.000000  \n",
       "max          1.000000      1.000000     1.000000     1.000000     1.000000  "
      ]
     },
     "execution_count": 17,
     "metadata": {},
     "output_type": "execute_result"
    }
   ],
   "source": [
    "X_train.describe()"
   ]
  },
  {
   "cell_type": "code",
   "execution_count": 18,
   "id": "8b687b73",
   "metadata": {},
   "outputs": [
    {
     "data": {
      "text/plain": [
       "<AxesSubplot:>"
      ]
     },
     "execution_count": 18,
     "metadata": {},
     "output_type": "execute_result"
    },
    {
     "data": {
      "image/png": "[encoded data removed]",
      "text/plain": [
       "<Figure size 432x288 with 1 Axes>"
      ]
     },
     "metadata": {
      "needs_background": "light"
     },
     "output_type": "display_data"
    }
   ],
   "source": [
    "X_train['shucked_weight'].hist(bins=20)"
   ]
  },
  {
   "cell_type": "code",
   "execution_count": 19,
   "id": "c816f760",
   "metadata": {},
   "outputs": [
    {
     "data": {
      "text/plain": [
       "<AxesSubplot:>"
      ]
     },
     "execution_count": 19,
     "metadata": {},
     "output_type": "execute_result"
    },
    {
     "data": {
      "image/png": "[encoded data removed]",
      "text/plain": [
       "<Figure size 432x288 with 1 Axes>"
      ]
     },
     "metadata": {
      "needs_background": "light"
     },
     "output_type": "display_data"
    }
   ],
   "source": [
    "X_train['height'].hist(bins=30)"
   ]
  },
  {
   "cell_type": "markdown",
   "id": "87df8931",
   "metadata": {},
   "source": [
    "#### Saving the data:"
   ]
  },
  {
   "cell_type": "code",
   "execution_count": 23,
   "id": "d59ff566",
   "metadata": {},
   "outputs": [],
   "source": [
    "X_train.to_csv(\"../data/processed/abalone_xtrain.csv\", index=False)\n",
    "y_train.to_csv(\"../data/processed/abalone_ytrain.csv\", index=False)\n",
    "\n",
    "X_test.to_csv(\"../data/processed/abalone_xtest.csv\", index=False)\n",
    "y_test.to_csv(\"../data/processed/abalone_ytest.csv\", index=False)"
   ]
  }
 ],
 "metadata": {
  "kernelspec": {
   "display_name": "Python 3 (ipykernel)",
   "language": "python",
   "name": "python3"
  },
  "language_info": {
   "codemirror_mode": {
    "name": "ipython",
    "version": 3
   },
   "file_extension": ".py",
   "mimetype": "text/x-python",
   "name": "python",
   "nbconvert_exporter": "python",
   "pygments_lexer": "ipython3",
   "version": "3.9.6"
  }
 },
 "nbformat": 4,
 "nbformat_minor": 5
}
