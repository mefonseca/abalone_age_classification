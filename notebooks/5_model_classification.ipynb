{
 "cells": [
  {
   "cell_type": "markdown",
   "id": "ee985642",
   "metadata": {},
   "source": [
    "# Abalone Project - Model Classification\n",
    "Maria Eugênia Fonseca\\\n",
    "2021/10/05"
   ]
  },
  {
   "cell_type": "code",
   "execution_count": 45,
   "id": "e505f9bc",
   "metadata": {},
   "outputs": [],
   "source": [
    "import pandas as pd\n",
    "import mlflow\n",
    "\n",
    "from sklearn.metrics import accuracy_score, f1_score\n",
    "from sklearn.naive_bayes import CategoricalNB\n",
    "from sklearn.neighbors import KNeighborsClassifier\n",
    "from sklearn.model_selection import GridSearchCV"
   ]
  },
  {
   "cell_type": "code",
   "execution_count": 21,
   "id": "a80d511d",
   "metadata": {},
   "outputs": [],
   "source": [
    "X_train = pd.read_csv(\"../data/processed/abalone_xtrain_class.csv\")\n",
    "y_train = pd.read_csv(\"../data/processed/abalone_ytrain_class.csv\")\n",
    "\n",
    "X_test = pd.read_csv(\"../data/processed/abalone_xtest_class.csv\")\n",
    "y_test = pd.read_csv(\"../data/processed/abalone_ytest_class.csv\")"
   ]
  },
  {
   "cell_type": "code",
   "execution_count": 22,
   "id": "950b59b8",
   "metadata": {},
   "outputs": [
    {
     "data": {
      "text/html": [
       "<div>\n",
       "<style scoped>\n",
       "    .dataframe tbody tr th:only-of-type {\n",
       "        vertical-align: middle;\n",
       "    }\n",
       "\n",
       "    .dataframe tbody tr th {\n",
       "        vertical-align: top;\n",
       "    }\n",
       "\n",
       "    .dataframe thead th {\n",
       "        text-align: right;\n",
       "    }\n",
       "</style>\n",
       "<table border=\"1\" class=\"dataframe\">\n",
       "  <thead>\n",
       "    <tr style=\"text-align: right;\">\n",
       "      <th></th>\n",
       "      <th>0</th>\n",
       "      <th>1</th>\n",
       "      <th>2</th>\n",
       "      <th>3</th>\n",
       "      <th>4</th>\n",
       "      <th>5</th>\n",
       "      <th>6</th>\n",
       "      <th>7</th>\n",
       "      <th>8</th>\n",
       "      <th>9</th>\n",
       "    </tr>\n",
       "  </thead>\n",
       "  <tbody>\n",
       "    <tr>\n",
       "      <th>0</th>\n",
       "      <td>0.540541</td>\n",
       "      <td>0.521008</td>\n",
       "      <td>0.093750</td>\n",
       "      <td>0.176023</td>\n",
       "      <td>0.155346</td>\n",
       "      <td>0.115866</td>\n",
       "      <td>0.153961</td>\n",
       "      <td>1.0</td>\n",
       "      <td>0.0</td>\n",
       "      <td>0.0</td>\n",
       "    </tr>\n",
       "    <tr>\n",
       "      <th>1</th>\n",
       "      <td>0.601351</td>\n",
       "      <td>0.621849</td>\n",
       "      <td>0.125000</td>\n",
       "      <td>0.287232</td>\n",
       "      <td>0.258238</td>\n",
       "      <td>0.264648</td>\n",
       "      <td>0.227703</td>\n",
       "      <td>0.0</td>\n",
       "      <td>1.0</td>\n",
       "      <td>0.0</td>\n",
       "    </tr>\n",
       "    <tr>\n",
       "      <th>2</th>\n",
       "      <td>0.736486</td>\n",
       "      <td>0.714286</td>\n",
       "      <td>0.151786</td>\n",
       "      <td>0.399681</td>\n",
       "      <td>0.354741</td>\n",
       "      <td>0.348914</td>\n",
       "      <td>0.303438</td>\n",
       "      <td>1.0</td>\n",
       "      <td>0.0</td>\n",
       "      <td>0.0</td>\n",
       "    </tr>\n",
       "    <tr>\n",
       "      <th>3</th>\n",
       "      <td>0.378378</td>\n",
       "      <td>0.394958</td>\n",
       "      <td>0.071429</td>\n",
       "      <td>0.115282</td>\n",
       "      <td>0.089442</td>\n",
       "      <td>0.112574</td>\n",
       "      <td>0.088191</td>\n",
       "      <td>0.0</td>\n",
       "      <td>0.0</td>\n",
       "      <td>1.0</td>\n",
       "    </tr>\n",
       "    <tr>\n",
       "      <th>4</th>\n",
       "      <td>0.452703</td>\n",
       "      <td>0.436975</td>\n",
       "      <td>0.075893</td>\n",
       "      <td>0.098636</td>\n",
       "      <td>0.075992</td>\n",
       "      <td>0.044766</td>\n",
       "      <td>0.108122</td>\n",
       "      <td>1.0</td>\n",
       "      <td>0.0</td>\n",
       "      <td>0.0</td>\n",
       "    </tr>\n",
       "  </tbody>\n",
       "</table>\n",
       "</div>"
      ],
      "text/plain": [
       "          0         1         2         3         4         5         6    7  \\\n",
       "0  0.540541  0.521008  0.093750  0.176023  0.155346  0.115866  0.153961  1.0   \n",
       "1  0.601351  0.621849  0.125000  0.287232  0.258238  0.264648  0.227703  0.0   \n",
       "2  0.736486  0.714286  0.151786  0.399681  0.354741  0.348914  0.303438  1.0   \n",
       "3  0.378378  0.394958  0.071429  0.115282  0.089442  0.112574  0.088191  0.0   \n",
       "4  0.452703  0.436975  0.075893  0.098636  0.075992  0.044766  0.108122  1.0   \n",
       "\n",
       "     8    9  \n",
       "0  0.0  0.0  \n",
       "1  1.0  0.0  \n",
       "2  0.0  0.0  \n",
       "3  0.0  1.0  \n",
       "4  0.0  0.0  "
      ]
     },
     "execution_count": 22,
     "metadata": {},
     "output_type": "execute_result"
    }
   ],
   "source": [
    "X_train.head()"
   ]
  },
  {
   "cell_type": "code",
   "execution_count": 23,
   "id": "1d30d3a8",
   "metadata": {},
   "outputs": [
    {
     "data": {
      "text/html": [
       "<div>\n",
       "<style scoped>\n",
       "    .dataframe tbody tr th:only-of-type {\n",
       "        vertical-align: middle;\n",
       "    }\n",
       "\n",
       "    .dataframe tbody tr th {\n",
       "        vertical-align: top;\n",
       "    }\n",
       "\n",
       "    .dataframe thead th {\n",
       "        text-align: right;\n",
       "    }\n",
       "</style>\n",
       "<table border=\"1\" class=\"dataframe\">\n",
       "  <thead>\n",
       "    <tr style=\"text-align: right;\">\n",
       "      <th></th>\n",
       "      <th>age</th>\n",
       "    </tr>\n",
       "  </thead>\n",
       "  <tbody>\n",
       "    <tr>\n",
       "      <th>0</th>\n",
       "      <td>middle age</td>\n",
       "    </tr>\n",
       "    <tr>\n",
       "      <th>1</th>\n",
       "      <td>middle age</td>\n",
       "    </tr>\n",
       "    <tr>\n",
       "      <th>2</th>\n",
       "      <td>middle age</td>\n",
       "    </tr>\n",
       "    <tr>\n",
       "      <th>3</th>\n",
       "      <td>middle age</td>\n",
       "    </tr>\n",
       "    <tr>\n",
       "      <th>4</th>\n",
       "      <td>middle age</td>\n",
       "    </tr>\n",
       "  </tbody>\n",
       "</table>\n",
       "</div>"
      ],
      "text/plain": [
       "          age\n",
       "0  middle age\n",
       "1  middle age\n",
       "2  middle age\n",
       "3  middle age\n",
       "4  middle age"
      ]
     },
     "execution_count": 23,
     "metadata": {},
     "output_type": "execute_result"
    }
   ],
   "source": [
    "y_train.head()"
   ]
  },
  {
   "cell_type": "markdown",
   "id": "a9888b02",
   "metadata": {},
   "source": [
    "#### Start mlflow experiment:"
   ]
  },
  {
   "cell_type": "code",
   "execution_count": 24,
   "id": "0273bccb",
   "metadata": {},
   "outputs": [
    {
     "name": "stdout",
     "output_type": "stream",
     "text": [
      "ALREADY EXISTS\n"
     ]
    }
   ],
   "source": [
    "EXPERIMENT_NAME = \"abalone_classification\"\n",
    "\n",
    "try:\n",
    "    mlflow.create_experiment(EXPERIMENT_NAME)\n",
    "    print(\"CREATING\")\n",
    "except:\n",
    "    print(\"ALREADY EXISTS\")\n",
    "\n",
    "mlflow.set_experiment(EXPERIMENT_NAME)"
   ]
  },
  {
   "cell_type": "markdown",
   "id": "d13547fd",
   "metadata": {},
   "source": [
    "#### Function to evaluate classification and log metrics in mlflow:"
   ]
  },
  {
   "cell_type": "code",
   "execution_count": 34,
   "id": "90fbca65",
   "metadata": {},
   "outputs": [],
   "source": [
    "def evaluate_classification_and_log(classification_model, X_train, y_train, X_test, y_test, params):    \n",
    "    # metrics - train\n",
    "    y_train_pred = classification_model.predict(X_train)\n",
    "    accuracy_train = accuracy_score(y_train, y_train_pred)\n",
    "    f1_train = f1_score(y_train, y_train_pred, average='weighted')\n",
    "\n",
    "    # metrics - test\n",
    "    y_test_pred = classification_model.predict(X_test)\n",
    "    accuracy_test = accuracy_score(y_test, y_test_pred)\n",
    "    f1_test = f1_score(y_test, y_test_pred, average='weighted')\n",
    "    \n",
    "    # log metrics    \n",
    "    mlflow.start_run()\n",
    "\n",
    "    mlflow.log_metric(\"accuracy_train\", accuracy_train)\n",
    "    mlflow.log_metric(\"f1_train\", f1_train)\n",
    "    mlflow.log_metric(\"accuracy_test\", accuracy_test)\n",
    "    mlflow.log_metric(\"f1_test\", f1_test)\n",
    "\n",
    "    mlflow.sklearn.log_model(classification_model, \"model\")\n",
    "    mlflow.log_param(\"model_name\", type(classification_model).__name__)\n",
    "    mlflow.log_params(params)\n",
    "    \n",
    "    mlflow.end_run()"
   ]
  },
  {
   "cell_type": "markdown",
   "id": "2cd97686",
   "metadata": {},
   "source": [
    "#### First model - CategoricalNB"
   ]
  },
  {
   "cell_type": "code",
   "execution_count": 7,
   "id": "cd038b0b",
   "metadata": {},
   "outputs": [],
   "source": [
    "params_pipe = {\n",
    "    \"minmax_scaller\": \"true\"}"
   ]
  },
  {
   "cell_type": "code",
   "execution_count": 35,
   "id": "d31a010e",
   "metadata": {},
   "outputs": [
    {
     "name": "stderr",
     "output_type": "stream",
     "text": [
      "C:\\Users\\fonse\\anaconda3\\envs\\abalone\\lib\\site-packages\\sklearn\\utils\\validation.py:63: DataConversionWarning: A column-vector y was passed when a 1d array was expected. Please change the shape of y to (n_samples, ), for example using ravel().\n",
      "  return f(*args, **kwargs)\n"
     ]
    }
   ],
   "source": [
    "nb = CategoricalNB().fit(X_train, y_train)\n",
    "\n",
    "evaluate_classification_and_log(nb, X_train, y_train, X_test, y_test, params_pipe)"
   ]
  },
  {
   "cell_type": "markdown",
   "id": "47d3682a",
   "metadata": {},
   "source": [
    "#### Second model - KNeighborsClassifier"
   ]
  },
  {
   "cell_type": "code",
   "execution_count": 38,
   "id": "802e7c04",
   "metadata": {},
   "outputs": [
    {
     "name": "stderr",
     "output_type": "stream",
     "text": [
      "C:\\Users\\fonse\\anaconda3\\envs\\abalone\\lib\\site-packages\\sklearn\\neighbors\\_classification.py:179: DataConversionWarning: A column-vector y was passed when a 1d array was expected. Please change the shape of y to (n_samples,), for example using ravel().\n",
      "  return self._fit(X, y)\n"
     ]
    }
   ],
   "source": [
    "knn = KNeighborsClassifier().fit(X_train, y_train)\n",
    "\n",
    "evaluate_classification_and_log(knn, X_train, y_train, X_test, y_test, params_pipe)"
   ]
  },
  {
   "cell_type": "code",
   "execution_count": 42,
   "id": "c2168162",
   "metadata": {},
   "outputs": [
    {
     "data": {
      "text/plain": [
       "{'algorithm': 'auto',\n",
       " 'leaf_size': 30,\n",
       " 'metric': 'minkowski',\n",
       " 'metric_params': None,\n",
       " 'n_jobs': None,\n",
       " 'n_neighbors': 5,\n",
       " 'p': 2,\n",
       " 'weights': 'uniform'}"
      ]
     },
     "execution_count": 42,
     "metadata": {},
     "output_type": "execute_result"
    }
   ],
   "source": [
    "knn.get_params()"
   ]
  },
  {
   "cell_type": "markdown",
   "id": "89b1d253",
   "metadata": {},
   "source": [
    "#### Third model - KNeighborsClassifier with hyperparameter tuning"
   ]
  },
  {
   "cell_type": "code",
   "execution_count": 40,
   "id": "faf61540",
   "metadata": {},
   "outputs": [],
   "source": [
    "params_pipe = {\n",
    "    \"minmax_scaller\": \"true\",\n",
    "    \"hyperparameter_tuning\": \"true\"}"
   ]
  },
  {
   "cell_type": "code",
   "execution_count": 52,
   "id": "6036550b",
   "metadata": {},
   "outputs": [],
   "source": [
    "n_neighbors = [4, 5, 6, 7, 8]\n",
    "weights = ['uniform', 'distance']\n",
    "\n",
    "# Create the grid\n",
    "search_grid = {'n_neighbors': n_neighbors,\n",
    "               'weights': weights}"
   ]
  },
  {
   "cell_type": "code",
   "execution_count": 53,
   "id": "a524c6ff",
   "metadata": {},
   "outputs": [
    {
     "name": "stderr",
     "output_type": "stream",
     "text": [
      "C:\\Users\\fonse\\anaconda3\\envs\\abalone\\lib\\site-packages\\sklearn\\neighbors\\_classification.py:179: DataConversionWarning: A column-vector y was passed when a 1d array was expected. Please change the shape of y to (n_samples,), for example using ravel().\n",
      "  return self._fit(X, y)\n"
     ]
    },
    {
     "data": {
      "text/plain": [
       "GridSearchCV(cv=3, estimator=KNeighborsClassifier(), n_jobs=-1,\n",
       "             param_grid={'n_neighbors': [4, 5, 6, 7, 8],\n",
       "                         'weights': ['uniform', 'distance']})"
      ]
     },
     "execution_count": 53,
     "metadata": {},
     "output_type": "execute_result"
    }
   ],
   "source": [
    "knn = KNeighborsClassifier()\n",
    "\n",
    "# Grid search of parameters, using 3 fold cross validation, \n",
    "knn_tuning = GridSearchCV(estimator=knn, param_grid=search_grid, cv=3, n_jobs=-1)\n",
    "\n",
    "# Fit the random search model\n",
    "knn_tuning.fit(X_train, y_train)"
   ]
  },
  {
   "cell_type": "code",
   "execution_count": 54,
   "id": "3d2bba6f",
   "metadata": {},
   "outputs": [
    {
     "data": {
      "text/plain": [
       "{'n_neighbors': 7, 'weights': 'uniform'}"
      ]
     },
     "execution_count": 54,
     "metadata": {},
     "output_type": "execute_result"
    }
   ],
   "source": [
    "knn_tuning.best_params_"
   ]
  },
  {
   "cell_type": "code",
   "execution_count": 55,
   "id": "bb7920cc",
   "metadata": {},
   "outputs": [],
   "source": [
    "knn_tuned = knn_tuning.best_estimator_\n",
    "\n",
    "evaluate_classification_and_log(knn_tuned, X_train, y_train, X_test, y_test, params_pipe)"
   ]
  },
  {
   "cell_type": "markdown",
   "id": "a4da0e29",
   "metadata": {},
   "source": [
    "#### Fourth model - "
   ]
  },
  {
   "cell_type": "code",
   "execution_count": null,
   "id": "84a77480",
   "metadata": {},
   "outputs": [],
   "source": []
  }
 ],
 "metadata": {
  "kernelspec": {
   "display_name": "Python 3 (ipykernel)",
   "language": "python",
   "name": "python3"
  },
  "language_info": {
   "codemirror_mode": {
    "name": "ipython",
    "version": 3
   },
   "file_extension": ".py",
   "mimetype": "text/x-python",
   "name": "python",
   "nbconvert_exporter": "python",
   "pygments_lexer": "ipython3",
   "version": "3.9.6"
  }
 },
 "nbformat": 4,
 "nbformat_minor": 5
}
