{
 "cells": [
  {
   "cell_type": "markdown",
   "id": "95f3fe04",
   "metadata": {},
   "source": [
    "# Abalone Project - Data preparation Pipeline\n",
    "Maria Eugênia Fonseca\\\n",
    "2021/09/25"
   ]
  },
  {
   "cell_type": "code",
   "execution_count": 1,
   "id": "5543863e",
   "metadata": {},
   "outputs": [],
   "source": [
    "import pandas as pd\n",
    "\n",
    "from sklearn.pipeline import Pipeline\n",
    "from sklearn.model_selection import train_test_split\n",
    "from sklearn.preprocessing import MinMaxScaler\n",
    "from sklearn.linear_model import LinearRegression\n",
    "from sklearn.metrics import mean_squared_error, r2_score\n",
    "\n",
    "from feature_engine.encoding import OneHotEncoder\n",
    "from feature_engine.transformation import BoxCoxTransformer\n",
    "\n",
    "import mlflow"
   ]
  },
  {
   "cell_type": "code",
   "execution_count": 2,
   "id": "af6ddd80",
   "metadata": {},
   "outputs": [],
   "source": [
    "col_names = ['sex', 'length', 'diameter', 'height', 'whole_weight', 'shucked_weight', 'viscera_weight', 'shell_weight', 'rings']\n",
    "\n",
    "data = pd.read_csv(\"../data/raw/abalone_data.txt\", header = None, names=col_names)"
   ]
  },
  {
   "cell_type": "code",
   "execution_count": 3,
   "id": "680e160c",
   "metadata": {},
   "outputs": [],
   "source": [
    "# Creating Age variable:\n",
    "data['age'] = data['rings'] + 1.5\n",
    "data.drop('rings', axis=1, inplace=True)"
   ]
  },
  {
   "cell_type": "code",
   "execution_count": 4,
   "id": "3121dc44",
   "metadata": {},
   "outputs": [],
   "source": [
    "# Removing observations with zero height:\n",
    "data = data[data['height'] != 0]"
   ]
  },
  {
   "cell_type": "code",
   "execution_count": 5,
   "id": "0564c4c4",
   "metadata": {},
   "outputs": [],
   "source": [
    "X = data.drop('age', axis=1)\n",
    "y = data['age']\n",
    "\n",
    "X_train, X_test, y_train, y_test = train_test_split(X, y, test_size=0.2, random_state=123, stratify=data['sex'])"
   ]
  },
  {
   "cell_type": "markdown",
   "id": "767e3e1f",
   "metadata": {},
   "source": [
    "### Config"
   ]
  },
  {
   "cell_type": "code",
   "execution_count": 6,
   "id": "1fc3ed8d",
   "metadata": {},
   "outputs": [],
   "source": [
    "CATEGORICAL_VARS = ['sex']\n",
    "NUMERICAL_BOXCOX_VARS = ['length', 'diameter', 'height', 'whole_weight','shucked_weight',\n",
    "                           'viscera_weight', 'shell_weight']"
   ]
  },
  {
   "cell_type": "markdown",
   "id": "297d06c2",
   "metadata": {},
   "source": [
    "### Pipeline 1\n",
    "- One hot encoding"
   ]
  },
  {
   "cell_type": "code",
   "execution_count": 7,
   "id": "01a70678",
   "metadata": {},
   "outputs": [],
   "source": [
    "abalone_dataprep_pipeline1 = Pipeline(steps=[\n",
    "    # == CATEGORICAL ENCODING\n",
    "    ('one_hot_encoder', OneHotEncoder(\n",
    "    variables=CATEGORICAL_VARS, drop_last=False))\n",
    "])"
   ]
  },
  {
   "cell_type": "code",
   "execution_count": 8,
   "id": "8aaa118b",
   "metadata": {},
   "outputs": [],
   "source": [
    "X_train_pipe1 = abalone_dataprep_pipeline1.fit_transform(X_train, y_train)"
   ]
  },
  {
   "cell_type": "markdown",
   "id": "12c7b5a9",
   "metadata": {},
   "source": [
    "### Pipeline 2\n",
    "- One hot encoding\n",
    "- BoxCox Transformeer"
   ]
  },
  {
   "cell_type": "code",
   "execution_count": 9,
   "id": "c77200f4",
   "metadata": {},
   "outputs": [],
   "source": [
    "abalone_dataprep_pipeline2 = Pipeline(steps=[\n",
    "    # == CATEGORICAL ENCODING\n",
    "    ('one_hot_encoder', OneHotEncoder(\n",
    "    variables=CATEGORICAL_VARS, drop_last=False)),\n",
    "    \n",
    "    # ==== VARIABLE TRANSFORMATION\n",
    "    ('boxcox_transformer', BoxCoxTransformer(\n",
    "    variables=NUMERICAL_BOXCOX_VARS))    \n",
    "])"
   ]
  },
  {
   "cell_type": "code",
   "execution_count": 10,
   "id": "41b352a9",
   "metadata": {},
   "outputs": [],
   "source": [
    "X_train_pipe2 = abalone_dataprep_pipeline2.fit_transform(X_train, y_train)"
   ]
  },
  {
   "cell_type": "markdown",
   "id": "1a75f811",
   "metadata": {},
   "source": [
    "### Pipeline 3\n",
    "- One hot encoding\n",
    "- BoxCox Transformeer\n",
    "- Scaller"
   ]
  },
  {
   "cell_type": "code",
   "execution_count": 11,
   "id": "b1f6d63d",
   "metadata": {},
   "outputs": [],
   "source": [
    "abalone_dataprep_pipeline3 = Pipeline(steps=[\n",
    "    # == CATEGORICAL ENCODING\n",
    "    ('one_hot_encoder', OneHotEncoder(\n",
    "    variables=CATEGORICAL_VARS, drop_last=False)),\n",
    "    \n",
    "    # ==== VARIABLE TRANSFORMATION\n",
    "    ('boxcox_transformer', BoxCoxTransformer(\n",
    "    variables=NUMERICAL_BOXCOX_VARS)),\n",
    "    \n",
    "    # === SCALLER\n",
    "    ('minmax_scaller', MinMaxScaler())\n",
    "    \n",
    "])"
   ]
  },
  {
   "cell_type": "code",
   "execution_count": 12,
   "id": "521dd98f",
   "metadata": {},
   "outputs": [],
   "source": [
    "X_train_pipe3 = abalone_dataprep_pipeline3.fit_transform(X_train, y_train)"
   ]
  },
  {
   "cell_type": "markdown",
   "id": "28f69774",
   "metadata": {},
   "source": [
    "### Pipeline 4\n",
    "- One hot encoding\n",
    "- Scaller"
   ]
  },
  {
   "cell_type": "code",
   "execution_count": 22,
   "id": "16b662e8",
   "metadata": {},
   "outputs": [],
   "source": [
    "abalone_dataprep_pipeline4 = Pipeline(steps=[\n",
    "    # == CATEGORICAL ENCODING\n",
    "    ('one_hot_encoder', OneHotEncoder(\n",
    "    variables=CATEGORICAL_VARS, drop_last=False)),\n",
    "    \n",
    "    # === SCALLER\n",
    "    ('minmax_scaller', MinMaxScaler())\n",
    "    \n",
    "])"
   ]
  },
  {
   "cell_type": "code",
   "execution_count": 23,
   "id": "000d0cef",
   "metadata": {},
   "outputs": [],
   "source": [
    "X_train_pipe4 = abalone_dataprep_pipeline4.fit_transform(X_train, y_train)"
   ]
  },
  {
   "cell_type": "markdown",
   "id": "425255f9",
   "metadata": {},
   "source": [
    "### Linear regression"
   ]
  },
  {
   "cell_type": "code",
   "execution_count": 13,
   "id": "3856a0cb",
   "metadata": {},
   "outputs": [
    {
     "name": "stdout",
     "output_type": "stream",
     "text": [
      "ALREADY EXISTS\n"
     ]
    }
   ],
   "source": [
    "EXPERIMENT_NAME = \"abalone\"\n",
    "\n",
    "try:\n",
    "    mlflow.create_experiment(\"abalone\")\n",
    "    print(\"CREATING\")\n",
    "except:\n",
    "    print(\"ALREADY EXISTS\")\n",
    "\n",
    "mlflow.set_experiment(EXPERIMENT_NAME)"
   ]
  },
  {
   "cell_type": "code",
   "execution_count": 14,
   "id": "eb3951fb",
   "metadata": {},
   "outputs": [],
   "source": [
    "def evaluate_regression_and_log(regression_model, X_train, y_train, params):    \n",
    "    regression_model = regression_model.fit(X_train, y_train)\n",
    "    \n",
    "    # metrics - train\n",
    "    y_train_pred = regression_model.predict(X_train)\n",
    "    mse_train = mean_squared_error(y_train, y_train_pred)\n",
    "    r2_train = r2_score(y_train, y_train_pred)\n",
    "    \n",
    "    # log\n",
    "    mlflow.start_run()\n",
    "\n",
    "    mlflow.log_metric(\"mse_train\", mse_train)\n",
    "    mlflow.log_metric(\"r2_train\", r2_train)\n",
    "\n",
    "    mlflow.sklearn.log_model(regression_model, \"model\")\n",
    "    mlflow.log_param(\"model_name\", type(regression_model).__name__)\n",
    "    mlflow.log_params(params)\n",
    "    \n",
    "    mlflow.end_run()"
   ]
  },
  {
   "cell_type": "code",
   "execution_count": 15,
   "id": "189722e8",
   "metadata": {},
   "outputs": [],
   "source": [
    "lm = LinearRegression()"
   ]
  },
  {
   "cell_type": "markdown",
   "id": "45d253ec",
   "metadata": {},
   "source": [
    "#### Pipeline 1"
   ]
  },
  {
   "cell_type": "code",
   "execution_count": 36,
   "id": "70b84b7c",
   "metadata": {},
   "outputs": [],
   "source": [
    "params_pipe1 = {\n",
    "    \"boxcox_transformer\": \"false\",\n",
    "    \"minmax_scaller\": \"false\"}"
   ]
  },
  {
   "cell_type": "code",
   "execution_count": 37,
   "id": "c44f8594",
   "metadata": {},
   "outputs": [],
   "source": [
    "evaluate_regression_and_log(lm, X_train_pipe1, y_train, params_pipe1)"
   ]
  },
  {
   "cell_type": "markdown",
   "id": "b4d9fcb1",
   "metadata": {},
   "source": [
    "#### Pipeline 2"
   ]
  },
  {
   "cell_type": "code",
   "execution_count": 38,
   "id": "3671f904",
   "metadata": {},
   "outputs": [],
   "source": [
    "params_pipe2 = {\n",
    "    \"boxcox_transformer\": \"true\",\n",
    "    \"minmax_scaller\": \"false\"}"
   ]
  },
  {
   "cell_type": "code",
   "execution_count": 39,
   "id": "1bb7f648",
   "metadata": {},
   "outputs": [],
   "source": [
    "evaluate_regression_and_log(lm, X_train_pipe2, y_train, params_pipe2)"
   ]
  },
  {
   "cell_type": "markdown",
   "id": "29a7bd13",
   "metadata": {},
   "source": [
    "#### Pipeline 3"
   ]
  },
  {
   "cell_type": "code",
   "execution_count": 40,
   "id": "1a1560ee",
   "metadata": {},
   "outputs": [],
   "source": [
    "params_pipe3 = {\n",
    "    \"boxcox_transformer\": \"true\",\n",
    "    \"minmax_scaller\": \"true\"}"
   ]
  },
  {
   "cell_type": "code",
   "execution_count": 41,
   "id": "8be40860",
   "metadata": {},
   "outputs": [],
   "source": [
    "evaluate_regression_and_log(lm, X_train_pipe3, y_train, params_pipe3)"
   ]
  },
  {
   "cell_type": "markdown",
   "id": "f134cbb9",
   "metadata": {},
   "source": [
    "#### Pipeline 4"
   ]
  },
  {
   "cell_type": "code",
   "execution_count": 42,
   "id": "c153636e",
   "metadata": {},
   "outputs": [],
   "source": [
    "params_pipe4 = {\n",
    "    \"boxcox_transformer\": \"false\",\n",
    "    \"minmax_scaller\": \"true\"}"
   ]
  },
  {
   "cell_type": "code",
   "execution_count": 43,
   "id": "0e51bd5f",
   "metadata": {},
   "outputs": [],
   "source": [
    "evaluate_regression_and_log(lm, X_train_pipe4, y_train, params_pipe4)"
   ]
  },
  {
   "cell_type": "markdown",
   "id": "7bd95ad4",
   "metadata": {},
   "source": [
    "Using boxcox transformer and/or minmax scaller didn't make a not of difference. We will only use minmax sc"
   ]
  }
 ],
 "metadata": {
  "kernelspec": {
   "display_name": "Python 3 (ipykernel)",
   "language": "python",
   "name": "python3"
  },
  "language_info": {
   "codemirror_mode": {
    "name": "ipython",
    "version": 3
   },
   "file_extension": ".py",
   "mimetype": "text/x-python",
   "name": "python",
   "nbconvert_exporter": "python",
   "pygments_lexer": "ipython3",
   "version": "3.9.6"
  }
 },
 "nbformat": 4,
 "nbformat_minor": 5
}
