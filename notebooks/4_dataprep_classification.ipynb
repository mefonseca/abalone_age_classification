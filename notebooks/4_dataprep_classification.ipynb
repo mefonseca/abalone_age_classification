{
 "cells": [
  {
   "cell_type": "markdown",
   "id": "5045d505",
   "metadata": {},
   "source": [
    "# Abalone Project - Data preparation Pipeline for classification\n",
    "Maria Eugênia Fonseca\\\n",
    "2021/10/05"
   ]
  },
  {
   "cell_type": "code",
   "execution_count": 12,
   "id": "f671a5af",
   "metadata": {},
   "outputs": [],
   "source": [
    "import pandas as pd\n",
    "\n",
    "from sklearn.pipeline import Pipeline\n",
    "from sklearn.model_selection import train_test_split\n",
    "from sklearn.preprocessing import MinMaxScaler\n",
    "\n",
    "from feature_engine.encoding import OneHotEncoder\n",
    "from feature_engine.transformation import BoxCoxTransformer"
   ]
  },
  {
   "cell_type": "code",
   "execution_count": 2,
   "id": "590468ba",
   "metadata": {},
   "outputs": [],
   "source": [
    "col_names = ['sex', 'length', 'diameter', 'height', 'whole_weight', 'shucked_weight', 'viscera_weight', 'shell_weight', 'rings']\n",
    " \n",
    "data = pd.read_csv(\"../data/raw/abalone_data.txt\", header = None, names=col_names)"
   ]
  },
  {
   "cell_type": "code",
   "execution_count": 3,
   "id": "b16d043c",
   "metadata": {},
   "outputs": [],
   "source": [
    "# Creating the Age variable for classification:\n",
    "data['age'] = data['rings'] + 1.5\n",
    "data['age'] = pd.cut(data['age'], bins=[0, 8, 14, max(data['age'])], labels=[\"young\", \"middle age\", \"old\"])\n",
    "\n",
    "data.drop('rings', axis=1, inplace=True)"
   ]
  },
  {
   "cell_type": "code",
   "execution_count": 4,
   "id": "77e7995b",
   "metadata": {},
   "outputs": [
    {
     "data": {
      "text/plain": [
       "middle age    3036\n",
       "old            693\n",
       "young          448\n",
       "Name: age, dtype: int64"
      ]
     },
     "execution_count": 4,
     "metadata": {},
     "output_type": "execute_result"
    }
   ],
   "source": [
    "data['age'].value_counts()"
   ]
  },
  {
   "cell_type": "code",
   "execution_count": 5,
   "id": "6f3cc4c3",
   "metadata": {},
   "outputs": [],
   "source": [
    "# Removing observations with zero height:\n",
    "data = data[data['height'] != 0]"
   ]
  },
  {
   "cell_type": "code",
   "execution_count": 6,
   "id": "f6cb7b3d",
   "metadata": {},
   "outputs": [],
   "source": [
    "X = data.drop('age', axis=1)\n",
    "y = data['age']\n",
    "\n",
    "X_train, X_test, y_train, y_test = train_test_split(X, y, test_size=0.2, stratify=data['age'], random_state=123)"
   ]
  },
  {
   "cell_type": "markdown",
   "id": "fdd0ee2b",
   "metadata": {},
   "source": [
    "### Config"
   ]
  },
  {
   "cell_type": "code",
   "execution_count": 7,
   "id": "aa3a6238",
   "metadata": {},
   "outputs": [],
   "source": [
    "CATEGORICAL_VARS = ['sex']\n",
    "NUMERICAL_BOXCOX_VARS = ['length', 'diameter', 'height', 'whole_weight','shucked_weight',\n",
    "                           'viscera_weight', 'shell_weight']"
   ]
  },
  {
   "cell_type": "markdown",
   "id": "8452d826",
   "metadata": {},
   "source": [
    "### Pipeline\n",
    "- One hot encoding\n",
    "- Scaller"
   ]
  },
  {
   "cell_type": "code",
   "execution_count": 8,
   "id": "c94d193b",
   "metadata": {},
   "outputs": [],
   "source": [
    "abalone_dataprep_pipeline = Pipeline(steps=[\n",
    "    # == CATEGORICAL ENCODING\n",
    "    ('one_hot_encoder', OneHotEncoder(\n",
    "    variables=CATEGORICAL_VARS, drop_last=False)),\n",
    "    \n",
    "    # === SCALLER\n",
    "    ('minmax_scaller', MinMaxScaler())\n",
    "    \n",
    "])"
   ]
  },
  {
   "cell_type": "code",
   "execution_count": 9,
   "id": "6917a54d",
   "metadata": {},
   "outputs": [],
   "source": [
    "X_train_pipe = pd.DataFrame(abalone_dataprep_pipeline.fit_transform(X_train, y_train))"
   ]
  },
  {
   "cell_type": "code",
   "execution_count": 10,
   "id": "11c645cb",
   "metadata": {},
   "outputs": [],
   "source": [
    "X_test_pipe = pd.DataFrame(abalone_dataprep_pipeline.transform(X_test))"
   ]
  },
  {
   "cell_type": "code",
   "execution_count": 11,
   "id": "b9e9fcd6",
   "metadata": {},
   "outputs": [],
   "source": [
    "X_train_pipe.to_csv(\"../data/processed/abalone_xtrain_class.csv\", index=False)\n",
    "y_train.to_csv(\"../data/processed/abalone_ytrain_class.csv\", index=False)\n",
    "\n",
    "X_test_pipe.to_csv(\"../data/processed/abalone_xtest_class.csv\", index=False)\n",
    "y_test.to_csv(\"../data/processed/abalone_ytest_class.csv\", index=False)"
   ]
  },
  {
   "cell_type": "code",
   "execution_count": null,
   "id": "af676342",
   "metadata": {},
   "outputs": [],
   "source": []
  }
 ],
 "metadata": {
  "kernelspec": {
   "display_name": "Python 3 (ipykernel)",
   "language": "python",
   "name": "python3"
  },
  "language_info": {
   "codemirror_mode": {
    "name": "ipython",
    "version": 3
   },
   "file_extension": ".py",
   "mimetype": "text/x-python",
   "name": "python",
   "nbconvert_exporter": "python",
   "pygments_lexer": "ipython3",
   "version": "3.9.6"
  }
 },
 "nbformat": 4,
 "nbformat_minor": 5
}
