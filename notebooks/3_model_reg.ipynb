{
 "cells": [
  {
   "cell_type": "markdown",
   "id": "8df136f0",
   "metadata": {},
   "source": [
    "# Abalone Project - Model Regression\n",
    "Maria Eugênia Fonseca\\\n",
    "2021/09/28"
   ]
  },
  {
   "cell_type": "code",
   "execution_count": 1,
   "id": "aff8c534",
   "metadata": {},
   "outputs": [],
   "source": [
    "import pandas as pd\n",
    "import matplotlib as plt\n",
    "import seaborn as sns\n",
    "import mlflow\n",
    "from sklearn import linear_model\n",
    "from sklearn.ensemble import GradientBoostingRegressor\n",
    "from sklearn.model_selection import RandomizedSearchCV, GridSearchCV\n",
    "from sklearn.metrics import mean_squared_error, r2_score"
   ]
  },
  {
   "cell_type": "code",
   "execution_count": 2,
   "id": "91845528",
   "metadata": {},
   "outputs": [],
   "source": [
    "X_train = pd.read_csv(\"../data/processed/abalone_xtrain.csv\")\n",
    "y_train = pd.read_csv(\"../data/processed/abalone_ytrain.csv\")\n",
    "\n",
    "X_test = pd.read_csv(\"../data/processed/abalone_xtest.csv\")\n",
    "y_test = pd.read_csv(\"../data/processed/abalone_ytest.csv\")"
   ]
  },
  {
   "cell_type": "code",
   "execution_count": 3,
   "id": "dc4da2a4",
   "metadata": {},
   "outputs": [
    {
     "data": {
      "text/html": [
       "<div>\n",
       "<style scoped>\n",
       "    .dataframe tbody tr th:only-of-type {\n",
       "        vertical-align: middle;\n",
       "    }\n",
       "\n",
       "    .dataframe tbody tr th {\n",
       "        vertical-align: top;\n",
       "    }\n",
       "\n",
       "    .dataframe thead th {\n",
       "        text-align: right;\n",
       "    }\n",
       "</style>\n",
       "<table border=\"1\" class=\"dataframe\">\n",
       "  <thead>\n",
       "    <tr style=\"text-align: right;\">\n",
       "      <th></th>\n",
       "      <th>0</th>\n",
       "      <th>1</th>\n",
       "      <th>2</th>\n",
       "      <th>3</th>\n",
       "      <th>4</th>\n",
       "      <th>5</th>\n",
       "      <th>6</th>\n",
       "      <th>7</th>\n",
       "      <th>8</th>\n",
       "      <th>9</th>\n",
       "    </tr>\n",
       "  </thead>\n",
       "  <tbody>\n",
       "    <tr>\n",
       "      <th>0</th>\n",
       "      <td>0.641892</td>\n",
       "      <td>0.647059</td>\n",
       "      <td>0.111607</td>\n",
       "      <td>0.302970</td>\n",
       "      <td>0.320741</td>\n",
       "      <td>0.262014</td>\n",
       "      <td>0.182860</td>\n",
       "      <td>1.0</td>\n",
       "      <td>0.0</td>\n",
       "      <td>0.0</td>\n",
       "    </tr>\n",
       "    <tr>\n",
       "      <th>1</th>\n",
       "      <td>0.655405</td>\n",
       "      <td>0.630252</td>\n",
       "      <td>0.107143</td>\n",
       "      <td>0.261386</td>\n",
       "      <td>0.247778</td>\n",
       "      <td>0.188282</td>\n",
       "      <td>0.215247</td>\n",
       "      <td>0.0</td>\n",
       "      <td>1.0</td>\n",
       "      <td>0.0</td>\n",
       "    </tr>\n",
       "    <tr>\n",
       "      <th>2</th>\n",
       "      <td>0.439189</td>\n",
       "      <td>0.394958</td>\n",
       "      <td>0.080357</td>\n",
       "      <td>0.095590</td>\n",
       "      <td>0.088519</td>\n",
       "      <td>0.078999</td>\n",
       "      <td>0.074738</td>\n",
       "      <td>0.0</td>\n",
       "      <td>1.0</td>\n",
       "      <td>0.0</td>\n",
       "    </tr>\n",
       "    <tr>\n",
       "      <th>3</th>\n",
       "      <td>0.736486</td>\n",
       "      <td>0.714286</td>\n",
       "      <td>0.125000</td>\n",
       "      <td>0.455086</td>\n",
       "      <td>0.464815</td>\n",
       "      <td>0.338381</td>\n",
       "      <td>0.306428</td>\n",
       "      <td>0.0</td>\n",
       "      <td>0.0</td>\n",
       "      <td>1.0</td>\n",
       "    </tr>\n",
       "    <tr>\n",
       "      <th>4</th>\n",
       "      <td>0.858108</td>\n",
       "      <td>0.848739</td>\n",
       "      <td>0.187500</td>\n",
       "      <td>0.724752</td>\n",
       "      <td>0.681852</td>\n",
       "      <td>0.597103</td>\n",
       "      <td>0.562531</td>\n",
       "      <td>0.0</td>\n",
       "      <td>0.0</td>\n",
       "      <td>1.0</td>\n",
       "    </tr>\n",
       "  </tbody>\n",
       "</table>\n",
       "</div>"
      ],
      "text/plain": [
       "          0         1         2         3         4         5         6    7  \\\n",
       "0  0.641892  0.647059  0.111607  0.302970  0.320741  0.262014  0.182860  1.0   \n",
       "1  0.655405  0.630252  0.107143  0.261386  0.247778  0.188282  0.215247  0.0   \n",
       "2  0.439189  0.394958  0.080357  0.095590  0.088519  0.078999  0.074738  0.0   \n",
       "3  0.736486  0.714286  0.125000  0.455086  0.464815  0.338381  0.306428  0.0   \n",
       "4  0.858108  0.848739  0.187500  0.724752  0.681852  0.597103  0.562531  0.0   \n",
       "\n",
       "     8    9  \n",
       "0  0.0  0.0  \n",
       "1  1.0  0.0  \n",
       "2  1.0  0.0  \n",
       "3  0.0  1.0  \n",
       "4  0.0  1.0  "
      ]
     },
     "execution_count": 3,
     "metadata": {},
     "output_type": "execute_result"
    }
   ],
   "source": [
    "X_train.head()"
   ]
  },
  {
   "cell_type": "markdown",
   "id": "0e4544c2",
   "metadata": {},
   "source": [
    "#### Start mlflow experiment:"
   ]
  },
  {
   "cell_type": "code",
   "execution_count": 4,
   "id": "923ef775",
   "metadata": {},
   "outputs": [
    {
     "name": "stdout",
     "output_type": "stream",
     "text": [
      "ALREADY EXISTS\n"
     ]
    }
   ],
   "source": [
    "EXPERIMENT_NAME = \"abalone\"\n",
    "\n",
    "try:\n",
    "    mlflow.create_experiment(EXPERIMENT_NAME)\n",
    "    print(\"CREATING\")\n",
    "except:\n",
    "    print(\"ALREADY EXISTS\")\n",
    "\n",
    "mlflow.set_experiment(EXPERIMENT_NAME)"
   ]
  },
  {
   "cell_type": "markdown",
   "id": "e6906510",
   "metadata": {},
   "source": [
    "#### Function to evaluate regression and log metrics in mlflow:"
   ]
  },
  {
   "cell_type": "code",
   "execution_count": 5,
   "id": "bc780c4b",
   "metadata": {},
   "outputs": [],
   "source": [
    "def evaluate_regression_and_log(regression_model, X_train, y_train, X_test, y_test, params):    \n",
    "    # metrics - train\n",
    "    y_train_pred = regression_model.predict(X_train)\n",
    "    rmse_train = mean_squared_error(y_train, y_train_pred, squared=False)\n",
    "    r2_train = r2_score(y_train, y_train_pred)\n",
    "\n",
    "    # metrics - test\n",
    "    y_test_pred = regression_model.predict(X_test)\n",
    "    rmse_test = mean_squared_error(y_test, y_test_pred, squared=False)\n",
    "    r2_test = r2_score(y_test, y_test_pred)\n",
    "    \n",
    "    # log metrics    \n",
    "    mlflow.start_run()\n",
    "\n",
    "    mlflow.log_metric(\"rmse_train\", rmse_train)\n",
    "    mlflow.log_metric(\"r2_train\", r2_train)\n",
    "    mlflow.log_metric(\"rmse_test\", rmse_test)\n",
    "    mlflow.log_metric(\"r2_test\", r2_test)\n",
    "\n",
    "    mlflow.sklearn.log_model(regression_model, \"model\")\n",
    "    mlflow.log_param(\"model_name\", type(regression_model).__name__)\n",
    "    mlflow.log_params(params)\n",
    "    \n",
    "    mlflow.end_run()"
   ]
  },
  {
   "cell_type": "code",
   "execution_count": 6,
   "id": "629db187",
   "metadata": {},
   "outputs": [],
   "source": [
    "params_pipe = {\n",
    "    \"boxcox_transformer\": \"false\",\n",
    "    \"minmax_scaller\": \"true\"}"
   ]
  },
  {
   "cell_type": "markdown",
   "id": "0f418c40",
   "metadata": {},
   "source": [
    "#### First model - LinearRegression"
   ]
  },
  {
   "cell_type": "code",
   "execution_count": 7,
   "id": "56081ff4",
   "metadata": {},
   "outputs": [],
   "source": [
    "lm = linear_model.LinearRegression()\n",
    "lm = lm.fit(X_train, y_train)\n",
    "\n",
    "evaluate_regression_and_log(lm, X_train, y_train, X_test, y_test, params_pipe)"
   ]
  },
  {
   "cell_type": "markdown",
   "id": "a84f2098",
   "metadata": {},
   "source": [
    "#### Second model - GradientBoostingRegressor default"
   ]
  },
  {
   "cell_type": "code",
   "execution_count": 8,
   "id": "6096b5f2",
   "metadata": {},
   "outputs": [],
   "source": [
    "params = {\n",
    "    \"boxcox_transformer\": \"false\",\n",
    "    \"minmax_scaller\": \"true\",\n",
    "    \"hyperparameter_tuning\": \"false\"}"
   ]
  },
  {
   "cell_type": "code",
   "execution_count": 9,
   "id": "ad016b6e",
   "metadata": {},
   "outputs": [
    {
     "name": "stderr",
     "output_type": "stream",
     "text": [
      "C:\\Users\\fonse\\anaconda3\\envs\\abalone\\lib\\site-packages\\sklearn\\utils\\validation.py:63: DataConversionWarning: A column-vector y was passed when a 1d array was expected. Please change the shape of y to (n_samples, ), for example using ravel().\n",
      "  return f(*args, **kwargs)\n"
     ]
    }
   ],
   "source": [
    "gbr_base = GradientBoostingRegressor(random_state=123)\n",
    "gbr_base = gbr_base.fit(X_train, y_train)\n",
    "\n",
    "evaluate_regression_and_log(gbr_base, X_train, y_train, X_test, y_test, params)"
   ]
  },
  {
   "cell_type": "code",
   "execution_count": 10,
   "id": "3937b696",
   "metadata": {},
   "outputs": [
    {
     "data": {
      "text/plain": [
       "{'alpha': 0.9,\n",
       " 'ccp_alpha': 0.0,\n",
       " 'criterion': 'friedman_mse',\n",
       " 'init': None,\n",
       " 'learning_rate': 0.1,\n",
       " 'loss': 'ls',\n",
       " 'max_depth': 3,\n",
       " 'max_features': None,\n",
       " 'max_leaf_nodes': None,\n",
       " 'min_impurity_decrease': 0.0,\n",
       " 'min_impurity_split': None,\n",
       " 'min_samples_leaf': 1,\n",
       " 'min_samples_split': 2,\n",
       " 'min_weight_fraction_leaf': 0.0,\n",
       " 'n_estimators': 100,\n",
       " 'n_iter_no_change': None,\n",
       " 'random_state': 123,\n",
       " 'subsample': 1.0,\n",
       " 'tol': 0.0001,\n",
       " 'validation_fraction': 0.1,\n",
       " 'verbose': 0,\n",
       " 'warm_start': False}"
      ]
     },
     "execution_count": 10,
     "metadata": {},
     "output_type": "execute_result"
    }
   ],
   "source": [
    "gbr_base.get_params()"
   ]
  },
  {
   "cell_type": "markdown",
   "id": "5ac64d5f",
   "metadata": {},
   "source": [
    "#### Third model - GradientBoostingRegressor with hyperparameter tuning"
   ]
  },
  {
   "cell_type": "code",
   "execution_count": 11,
   "id": "84c1d4c8",
   "metadata": {},
   "outputs": [],
   "source": [
    "params = {\n",
    "    \"boxcox_transformer\": \"false\",\n",
    "    \"minmax_scaller\": \"true\",\n",
    "    \"hyperparameter_tuning\": \"true\"}"
   ]
  },
  {
   "cell_type": "code",
   "execution_count": 12,
   "id": "1b92b385",
   "metadata": {},
   "outputs": [],
   "source": [
    "learning_rate = [0.03, 0.04, 0.05, 0.06]\n",
    "n_estimators = [140, 150, 160]\n",
    "subsample = [0.7, 0.75, 0.8, 0.85]\n",
    "min_samples_leaf = [10, 12, 15]\n",
    "max_depth = [4, 5, 6] \n",
    "max_features = ['auto', 'sqrt']\n",
    "warm_start = [True]\n",
    "\n",
    "# Create the grid\n",
    "random_grid = {'learning_rate': learning_rate,\n",
    "               'n_estimators': n_estimators,\n",
    "               'subsample': subsample,\n",
    "               'max_features': max_features,\n",
    "               'min_samples_leaf': min_samples_leaf,\n",
    "               'max_depth': max_depth,\n",
    "               'max_features': max_features,\n",
    "               'warm_start': warm_start}"
   ]
  },
  {
   "cell_type": "code",
   "execution_count": 13,
   "id": "1c2aa409",
   "metadata": {},
   "outputs": [
    {
     "name": "stdout",
     "output_type": "stream",
     "text": [
      "Fitting 3 folds for each of 864 candidates, totalling 2592 fits\n"
     ]
    },
    {
     "name": "stderr",
     "output_type": "stream",
     "text": [
      "C:\\Users\\fonse\\anaconda3\\envs\\abalone\\lib\\site-packages\\sklearn\\utils\\validation.py:63: DataConversionWarning: A column-vector y was passed when a 1d array was expected. Please change the shape of y to (n_samples, ), for example using ravel().\n",
      "  return f(*args, **kwargs)\n"
     ]
    },
    {
     "data": {
      "text/plain": [
       "GridSearchCV(cv=3, estimator=GradientBoostingRegressor(random_state=123),\n",
       "             n_jobs=-1,\n",
       "             param_grid={'learning_rate': [0.03, 0.04, 0.05, 0.06],\n",
       "                         'max_depth': [4, 5, 6],\n",
       "                         'max_features': ['auto', 'sqrt'],\n",
       "                         'min_samples_leaf': [10, 12, 15],\n",
       "                         'n_estimators': [140, 150, 160],\n",
       "                         'subsample': [0.7, 0.75, 0.8, 0.85],\n",
       "                         'warm_start': [True]},\n",
       "             verbose=10)"
      ]
     },
     "execution_count": 13,
     "metadata": {},
     "output_type": "execute_result"
    }
   ],
   "source": [
    "gbr = GradientBoostingRegressor(random_state=123)\n",
    "\n",
    "# Random search of parameters, using 3 fold cross validation, \n",
    "gbr_tuning = GridSearchCV(estimator=gbr, param_grid=random_grid, cv=3, verbose=10, n_jobs=-1)\n",
    "\n",
    "# Fit the random search model\n",
    "gbr_tuning.fit(X_train, y_train)"
   ]
  },
  {
   "cell_type": "code",
   "execution_count": 14,
   "id": "c7ce0789",
   "metadata": {},
   "outputs": [
    {
     "data": {
      "text/plain": [
       "{'learning_rate': 0.03,\n",
       " 'max_depth': 6,\n",
       " 'max_features': 'sqrt',\n",
       " 'min_samples_leaf': 12,\n",
       " 'n_estimators': 160,\n",
       " 'subsample': 0.7,\n",
       " 'warm_start': True}"
      ]
     },
     "execution_count": 14,
     "metadata": {},
     "output_type": "execute_result"
    }
   ],
   "source": [
    "gbr_tuning.best_params_"
   ]
  },
  {
   "cell_type": "code",
   "execution_count": 15,
   "id": "654497d2",
   "metadata": {},
   "outputs": [],
   "source": [
    "gbr_tuned = gbr_tuning.best_estimator_\n",
    "\n",
    "evaluate_regression_and_log(gbr_tuned, X_train, y_train, X_test, y_test, params)"
   ]
  },
  {
   "cell_type": "code",
   "execution_count": 16,
   "id": "01a1f171",
   "metadata": {},
   "outputs": [],
   "source": [
    "feat_imp_gbr = {'column_name': X_train.columns, \n",
    "            'importance': gbr_tuned.feature_importances_}\n",
    "\n",
    "feat_imp_gbr = pd.DataFrame(feat_imp_gbr).sort_values(by=['importance'], ascending=False)"
   ]
  },
  {
   "cell_type": "code",
   "execution_count": 17,
   "id": "653f6c50",
   "metadata": {},
   "outputs": [
    {
     "ename": "AttributeError",
     "evalue": "module 'matplotlib' has no attribute 'subplots'",
     "output_type": "error",
     "traceback": [
      "\u001b[1;31m---------------------------------------------------------------------------\u001b[0m",
      "\u001b[1;31mAttributeError\u001b[0m                            Traceback (most recent call last)",
      "\u001b[1;32m~\\AppData\\Local\\Temp/ipykernel_26616/1065861337.py\u001b[0m in \u001b[0;36m<module>\u001b[1;34m\u001b[0m\n\u001b[1;32m----> 1\u001b[1;33m \u001b[0mf\u001b[0m\u001b[1;33m,\u001b[0m \u001b[0max\u001b[0m \u001b[1;33m=\u001b[0m \u001b[0mplt\u001b[0m\u001b[1;33m.\u001b[0m\u001b[0msubplots\u001b[0m\u001b[1;33m(\u001b[0m\u001b[0mfigsize\u001b[0m\u001b[1;33m=\u001b[0m\u001b[1;33m(\u001b[0m\u001b[1;36m10\u001b[0m\u001b[1;33m,\u001b[0m \u001b[1;36m8\u001b[0m\u001b[1;33m)\u001b[0m\u001b[1;33m)\u001b[0m\u001b[1;33m\u001b[0m\u001b[1;33m\u001b[0m\u001b[0m\n\u001b[0m\u001b[0;32m      2\u001b[0m \u001b[1;33m\u001b[0m\u001b[0m\n\u001b[0;32m      3\u001b[0m \u001b[0msns\u001b[0m\u001b[1;33m.\u001b[0m\u001b[0mbarplot\u001b[0m\u001b[1;33m(\u001b[0m\u001b[0mx\u001b[0m\u001b[1;33m=\u001b[0m\u001b[0mfeat_imp_gbr\u001b[0m\u001b[1;33m.\u001b[0m\u001b[0miloc\u001b[0m\u001b[1;33m[\u001b[0m\u001b[1;34m'importance'\u001b[0m\u001b[1;33m]\u001b[0m\u001b[1;33m,\u001b[0m \u001b[0my\u001b[0m\u001b[1;33m=\u001b[0m\u001b[0mfeat_imp_gbr\u001b[0m\u001b[1;33m.\u001b[0m\u001b[0miloc\u001b[0m\u001b[1;33m[\u001b[0m\u001b[1;34m'column_name'\u001b[0m\u001b[1;33m]\u001b[0m\u001b[1;33m,\u001b[0m \u001b[0mcolor\u001b[0m\u001b[1;33m=\u001b[0m\u001b[1;34m'#94d1e3'\u001b[0m\u001b[1;33m)\u001b[0m\u001b[1;33m\u001b[0m\u001b[1;33m\u001b[0m\u001b[0m\n\u001b[0;32m      4\u001b[0m \u001b[1;33m\u001b[0m\u001b[0m\n\u001b[0;32m      5\u001b[0m \u001b[0max\u001b[0m\u001b[1;33m.\u001b[0m\u001b[0mtext\u001b[0m\u001b[1;33m(\u001b[0m\u001b[0mx\u001b[0m\u001b[1;33m=\u001b[0m\u001b[1;36m0\u001b[0m\u001b[1;33m,\u001b[0m \u001b[0my\u001b[0m\u001b[1;33m=\u001b[0m\u001b[1;36m1\u001b[0m\u001b[1;33m,\u001b[0m \u001b[0ms\u001b[0m\u001b[1;33m=\u001b[0m\u001b[1;34m'Feature importance'\u001b[0m\u001b[1;33m,\u001b[0m \u001b[0mfontsize\u001b[0m\u001b[1;33m=\u001b[0m\u001b[1;36m18\u001b[0m\u001b[1;33m,\u001b[0m \u001b[0mweight\u001b[0m\u001b[1;33m=\u001b[0m\u001b[1;34m'bold'\u001b[0m\u001b[1;33m,\u001b[0m \u001b[0mha\u001b[0m\u001b[1;33m=\u001b[0m\u001b[1;34m'left'\u001b[0m\u001b[1;33m,\u001b[0m \u001b[0mva\u001b[0m\u001b[1;33m=\u001b[0m\u001b[1;34m'bottom'\u001b[0m\u001b[1;33m,\u001b[0m \u001b[0mtransform\u001b[0m\u001b[1;33m=\u001b[0m\u001b[0max\u001b[0m\u001b[1;33m.\u001b[0m\u001b[0mtransAxes\u001b[0m\u001b[1;33m)\u001b[0m\u001b[1;33m\u001b[0m\u001b[1;33m\u001b[0m\u001b[0m\n",
      "\u001b[1;31mAttributeError\u001b[0m: module 'matplotlib' has no attribute 'subplots'"
     ]
    }
   ],
   "source": [
    "f, ax = plt.subplots(figsize=(10, 8))\n",
    "\n",
    "sns.barplot(x=feat_imp_gbr.iloc['importance'], y=feat_imp_gbr.iloc['column_name'], color='#94d1e3')\n",
    "\n",
    "ax.text(x=0, y=1, s='Feature importance', fontsize=18, weight='bold', ha='left', va='bottom', transform=ax.transAxes)\n",
    "\n",
    "ax.set(xlabel=\"Importance\", ylabel=\"\")\n",
    "plt.xticks(np.arange(0, max(feat_imp_gbr[:20]['importance']), 0.1))\n",
    "\n",
    "ax.grid(False)\n",
    "sns.despine(bottom = False, left = False)\n",
    "sns.set_style(\"whitegrid\") \n",
    "\n",
    "#plt.savefig('/content/drive/My Drive/Maria Eugênia Fonseca/Gráficos e mapas/top20_gbr_comodidades.png', quality=100)\n",
    "plt.show()"
   ]
  },
  {
   "cell_type": "markdown",
   "id": "e5d427ac",
   "metadata": {},
   "source": [
    "#### Forth model - Lasso default"
   ]
  },
  {
   "cell_type": "code",
   "execution_count": null,
   "id": "6a6a9af0",
   "metadata": {},
   "outputs": [],
   "source": []
  }
 ],
 "metadata": {
  "interpreter": {
   "hash": "26d55328adbbe5e7203cc0f430ba48fc666e5e8901edd2ec219b61a965225302"
  },
  "kernelspec": {
   "display_name": "Python 3 (ipykernel)",
   "language": "python",
   "name": "python3"
  },
  "language_info": {
   "codemirror_mode": {
    "name": "ipython",
    "version": 3
   },
   "file_extension": ".py",
   "mimetype": "text/x-python",
   "name": "python",
   "nbconvert_exporter": "python",
   "pygments_lexer": "ipython3",
   "version": "3.9.6"
  }
 },
 "nbformat": 4,
 "nbformat_minor": 5
}
