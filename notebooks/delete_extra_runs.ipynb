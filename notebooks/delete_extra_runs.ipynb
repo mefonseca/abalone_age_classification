{
 "cells": [
  {
   "cell_type": "code",
   "execution_count": 1,
   "id": "d9ebcfe8",
   "metadata": {},
   "outputs": [],
   "source": [
    "import mlflow\n",
    "from mlflow.tracking import MlflowClient\n",
    "from mlflow.entities import ViewType"
   ]
  },
  {
   "cell_type": "code",
   "execution_count": 2,
   "id": "22edcf6c",
   "metadata": {},
   "outputs": [],
   "source": [
    "def get_deleted_runs_id(experiment_id):\n",
    "    deleted_run_infos = mlflow.list_run_infos(\"3\", run_view_type=ViewType.DELETED_ONLY)\n",
    "    deleted_run_ids_list = []\n",
    "    for r in deleted_run_infos:\n",
    "        deleted_run_ids_list.append(r.run_id)\n",
    "    return deleted_run_ids_list"
   ]
  },
  {
   "cell_type": "code",
   "execution_count": 3,
   "id": "59fe39d4",
   "metadata": {},
   "outputs": [],
   "source": [
    "def delete_runs(experiment_id):\n",
    "    deleted_run_ids_list = get_deleted_runs_id(experiment_id)\n",
    "    for run_id in deleted_run_ids_list:\n",
    "        os.remove(\"./mlruns/\" + experiment_id + \"/\" + run_id)"
   ]
  },
  {
   "cell_type": "code",
   "execution_count": 4,
   "id": "a611fcd2",
   "metadata": {},
   "outputs": [
    {
     "name": "stderr",
     "output_type": "stream",
     "text": [
      "WARNING:root:Malformed run 'mlruns'. Detailed error Yaml file 'C:\\Users\\fonse\\Desktop\\gitProjects\\abalone_age_classification\\notebooks\\mlruns\\3\\mlruns\\meta.yaml' does not exist.\n",
      "Traceback (most recent call last):\n",
      "  File \"C:\\Users\\fonse\\anaconda3\\envs\\abalone\\lib\\site-packages\\mlflow\\store\\tracking\\file_store.py\", line 724, in _list_run_infos\n",
      "    run_info = self._get_run_info_from_dir(r_dir)\n",
      "  File \"C:\\Users\\fonse\\anaconda3\\envs\\abalone\\lib\\site-packages\\mlflow\\store\\tracking\\file_store.py\", line 554, in _get_run_info_from_dir\n",
      "    meta = read_yaml(run_dir, FileStore.META_DATA_FILE_NAME)\n",
      "  File \"C:\\Users\\fonse\\anaconda3\\envs\\abalone\\lib\\site-packages\\mlflow\\utils\\file_utils.py\", line 175, in read_yaml\n",
      "    raise MissingConfigException(\"Yaml file '%s' does not exist.\" % file_path)\n",
      "mlflow.exceptions.MissingConfigException: Yaml file 'C:\\Users\\fonse\\Desktop\\gitProjects\\abalone_age_classification\\notebooks\\mlruns\\3\\mlruns\\meta.yaml' does not exist.\n"
     ]
    },
    {
     "ename": "PermissionError",
     "evalue": "[WinError 5] Acesso negado: './mlruns/3/121288c4d106437e94220f1fdda313a6'",
     "output_type": "error",
     "traceback": [
      "\u001b[1;31m---------------------------------------------------------------------------\u001b[0m",
      "\u001b[1;31mPermissionError\u001b[0m                           Traceback (most recent call last)",
      "\u001b[1;32m~\\AppData\\Local\\Temp/ipykernel_14364/436949272.py\u001b[0m in \u001b[0;36m<module>\u001b[1;34m\u001b[0m\n\u001b[1;32m----> 1\u001b[1;33m \u001b[0mdelete_runs\u001b[0m\u001b[1;33m(\u001b[0m\u001b[1;34m\"3\"\u001b[0m\u001b[1;33m)\u001b[0m\u001b[1;33m\u001b[0m\u001b[1;33m\u001b[0m\u001b[0m\n\u001b[0m",
      "\u001b[1;32m~\\AppData\\Local\\Temp/ipykernel_14364/2837638693.py\u001b[0m in \u001b[0;36mdelete_runs\u001b[1;34m(experiment_id)\u001b[0m\n\u001b[0;32m      2\u001b[0m     \u001b[0mdeleted_run_ids_list\u001b[0m \u001b[1;33m=\u001b[0m \u001b[0mget_deleted_runs_id\u001b[0m\u001b[1;33m(\u001b[0m\u001b[0mexperiment_id\u001b[0m\u001b[1;33m)\u001b[0m\u001b[1;33m\u001b[0m\u001b[1;33m\u001b[0m\u001b[0m\n\u001b[0;32m      3\u001b[0m     \u001b[1;32mfor\u001b[0m \u001b[0mrun_id\u001b[0m \u001b[1;32min\u001b[0m \u001b[0mdeleted_run_ids_list\u001b[0m\u001b[1;33m:\u001b[0m\u001b[1;33m\u001b[0m\u001b[1;33m\u001b[0m\u001b[0m\n\u001b[1;32m----> 4\u001b[1;33m         \u001b[0mos\u001b[0m\u001b[1;33m.\u001b[0m\u001b[0mremove\u001b[0m\u001b[1;33m(\u001b[0m\u001b[1;34m\"./mlruns/\"\u001b[0m \u001b[1;33m+\u001b[0m \u001b[0mexperiment_id\u001b[0m \u001b[1;33m+\u001b[0m \u001b[1;34m\"/\"\u001b[0m \u001b[1;33m+\u001b[0m \u001b[0mrun_id\u001b[0m\u001b[1;33m)\u001b[0m\u001b[1;33m\u001b[0m\u001b[1;33m\u001b[0m\u001b[0m\n\u001b[0m",
      "\u001b[1;31mPermissionError\u001b[0m: [WinError 5] Acesso negado: './mlruns/3/121288c4d106437e94220f1fdda313a6'"
     ]
    }
   ],
   "source": [
    "delete_runs(\"1\")"
   ]
  },
  {
   "cell_type": "code",
   "execution_count": null,
   "id": "fb853ae4",
   "metadata": {},
   "outputs": [],
   "source": []
  }
 ],
 "metadata": {
  "interpreter": {
   "hash": "26d55328adbbe5e7203cc0f430ba48fc666e5e8901edd2ec219b61a965225302"
  },
  "kernelspec": {
   "display_name": "Python 3 (ipykernel)",
   "language": "python",
   "name": "python3"
  },
  "language_info": {
   "codemirror_mode": {
    "name": "ipython",
    "version": 3
   },
   "file_extension": ".py",
   "mimetype": "text/x-python",
   "name": "python",
   "nbconvert_exporter": "python",
   "pygments_lexer": "ipython3",
   "version": "3.9.6"
  }
 },
 "nbformat": 4,
 "nbformat_minor": 5
}
