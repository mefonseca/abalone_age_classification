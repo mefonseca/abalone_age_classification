{
 "cells": [
  {
   "cell_type": "markdown",
   "id": "fd5f230a",
   "metadata": {},
   "source": [
    "# Abalone Project - Model\n",
    "Maria Eugênia Fonseca\\\n",
    "2021/09/14"
   ]
  },
  {
   "cell_type": "code",
   "execution_count": null,
   "id": "7dab2aeb",
   "metadata": {},
   "outputs": [],
   "source": [
    "import mlflow"
   ]
  },
  {
   "cell_type": "code",
   "execution_count": null,
   "id": "92ef67fd",
   "metadata": {},
   "outputs": [],
   "source": [
    "from random import random, randint\n",
    "from mlflow import log_metric, log_param\n",
    "\n",
    "if __name__ == \"__main__\":\n",
    "    # Log a parameter (key-value pair)\n",
    "    log_param(\"param1\", randint(0, 100))\n",
    "\n",
    "    # Log a metric; metrics can be updated throughout the run\n",
    "    log_metric(\"foo\", random())\n",
    "    log_metric(\"foo\", random() + 1)\n",
    "    log_metric(\"foo\", random() + 2)"
   ]
  },
  {
   "cell_type": "code",
   "execution_count": null,
   "id": "973da9cc",
   "metadata": {},
   "outputs": [],
   "source": []
  }
 ],
 "metadata": {
  "kernelspec": {
   "display_name": "Python 3 (ipykernel)",
   "language": "python",
   "name": "python3"
  },
  "language_info": {
   "codemirror_mode": {
    "name": "ipython",
    "version": 3
   },
   "file_extension": ".py",
   "mimetype": "text/x-python",
   "name": "python",
   "nbconvert_exporter": "python",
   "pygments_lexer": "ipython3",
   "version": "3.9.6"
  }
 },
 "nbformat": 4,
 "nbformat_minor": 5
}
