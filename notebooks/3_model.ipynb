{
 "cells": [
  {
   "cell_type": "markdown",
   "id": "fd5f230a",
   "metadata": {},
   "source": [
    "# Abalone Project - Model\n",
    "Maria Eugênia Fonseca\\\n",
    "2021/09/14"
   ]
  },
  {
   "cell_type": "code",
   "execution_count": 1,
   "id": "7dab2aeb",
   "metadata": {},
   "outputs": [],
   "source": [
    "import pandas as pd\n",
    "import mlflow\n",
    "from sklearn import linear_model\n",
    "from sklearn.metrics import mean_squared_error, r2_score"
   ]
  },
  {
   "cell_type": "code",
   "execution_count": 2,
   "id": "21bd4226",
   "metadata": {},
   "outputs": [],
   "source": [
    "X_train = pd.read_csv(\"../data/processed/abalone_xtrain.csv\")\n",
    "y_train = pd.read_csv(\"../data/processed/abalone_ytrain.csv\")\n",
    "\n",
    "X_test = pd.read_csv(\"../data/processed/abalone_xtest.csv\")\n",
    "y_test = pd.read_csv(\"../data/processed/abalone_ytest.csv\")"
   ]
  },
  {
   "cell_type": "code",
   "execution_count": 3,
   "id": "5c786efb",
   "metadata": {},
   "outputs": [
    {
     "data": {
      "text/html": [
       "<div>\n",
       "<style scoped>\n",
       "    .dataframe tbody tr th:only-of-type {\n",
       "        vertical-align: middle;\n",
       "    }\n",
       "\n",
       "    .dataframe tbody tr th {\n",
       "        vertical-align: top;\n",
       "    }\n",
       "\n",
       "    .dataframe thead th {\n",
       "        text-align: right;\n",
       "    }\n",
       "</style>\n",
       "<table border=\"1\" class=\"dataframe\">\n",
       "  <thead>\n",
       "    <tr style=\"text-align: right;\">\n",
       "      <th></th>\n",
       "      <th>length</th>\n",
       "      <th>diameter</th>\n",
       "      <th>height</th>\n",
       "      <th>whole_weight</th>\n",
       "      <th>shucked_weight</th>\n",
       "      <th>viscera_weight</th>\n",
       "      <th>shell_weight</th>\n",
       "      <th>sex_F</th>\n",
       "      <th>sex_I</th>\n",
       "      <th>sex_M</th>\n",
       "    </tr>\n",
       "  </thead>\n",
       "  <tbody>\n",
       "    <tr>\n",
       "      <th>0</th>\n",
       "      <td>0.468790</td>\n",
       "      <td>0.488667</td>\n",
       "      <td>0.229218</td>\n",
       "      <td>0.491587</td>\n",
       "      <td>0.533680</td>\n",
       "      <td>0.470439</td>\n",
       "      <td>0.360029</td>\n",
       "      <td>1.0</td>\n",
       "      <td>0.0</td>\n",
       "      <td>0.0</td>\n",
       "    </tr>\n",
       "    <tr>\n",
       "      <th>1</th>\n",
       "      <td>0.485457</td>\n",
       "      <td>0.468336</td>\n",
       "      <td>0.222640</td>\n",
       "      <td>0.449926</td>\n",
       "      <td>0.462018</td>\n",
       "      <td>0.389594</td>\n",
       "      <td>0.397773</td>\n",
       "      <td>0.0</td>\n",
       "      <td>1.0</td>\n",
       "      <td>0.0</td>\n",
       "    </tr>\n",
       "    <tr>\n",
       "      <th>2</th>\n",
       "      <td>0.251383</td>\n",
       "      <td>0.224121</td>\n",
       "      <td>0.180886</td>\n",
       "      <td>0.244421</td>\n",
       "      <td>0.257567</td>\n",
       "      <td>0.235621</td>\n",
       "      <td>0.206309</td>\n",
       "      <td>0.0</td>\n",
       "      <td>1.0</td>\n",
       "      <td>0.0</td>\n",
       "    </tr>\n",
       "    <tr>\n",
       "      <th>3</th>\n",
       "      <td>0.591087</td>\n",
       "      <td>0.573728</td>\n",
       "      <td>0.248409</td>\n",
       "      <td>0.626837</td>\n",
       "      <td>0.655794</td>\n",
       "      <td>0.543919</td>\n",
       "      <td>0.492930</td>\n",
       "      <td>0.0</td>\n",
       "      <td>0.0</td>\n",
       "      <td>1.0</td>\n",
       "    </tr>\n",
       "    <tr>\n",
       "      <th>4</th>\n",
       "      <td>0.767442</td>\n",
       "      <td>0.761457</td>\n",
       "      <td>0.329615</td>\n",
       "      <td>0.826501</td>\n",
       "      <td>0.810289</td>\n",
       "      <td>0.749184</td>\n",
       "      <td>0.710113</td>\n",
       "      <td>0.0</td>\n",
       "      <td>0.0</td>\n",
       "      <td>1.0</td>\n",
       "    </tr>\n",
       "  </tbody>\n",
       "</table>\n",
       "</div>"
      ],
      "text/plain": [
       "     length  diameter    height  whole_weight  shucked_weight  viscera_weight  \\\n",
       "0  0.468790  0.488667  0.229218      0.491587        0.533680        0.470439   \n",
       "1  0.485457  0.468336  0.222640      0.449926        0.462018        0.389594   \n",
       "2  0.251383  0.224121  0.180886      0.244421        0.257567        0.235621   \n",
       "3  0.591087  0.573728  0.248409      0.626837        0.655794        0.543919   \n",
       "4  0.767442  0.761457  0.329615      0.826501        0.810289        0.749184   \n",
       "\n",
       "   shell_weight  sex_F  sex_I  sex_M  \n",
       "0      0.360029    1.0    0.0    0.0  \n",
       "1      0.397773    0.0    1.0    0.0  \n",
       "2      0.206309    0.0    1.0    0.0  \n",
       "3      0.492930    0.0    0.0    1.0  \n",
       "4      0.710113    0.0    0.0    1.0  "
      ]
     },
     "execution_count": 3,
     "metadata": {},
     "output_type": "execute_result"
    }
   ],
   "source": [
    "X_train.head()"
   ]
  },
  {
   "cell_type": "code",
   "execution_count": 4,
   "id": "82b2485d",
   "metadata": {},
   "outputs": [
    {
     "name": "stdout",
     "output_type": "stream",
     "text": [
      "ALREADY EXISTS\n"
     ]
    }
   ],
   "source": [
    "EXPERIMENT_NAME = \"abalone\"\n",
    "\n",
    "try:\n",
    "    mlflow.create_experiment(\"abalone\")\n",
    "    print(\"CREATING\")\n",
    "except:\n",
    "    print(\"ALREADY EXISTS\")\n",
    "\n",
    "mlflow.set_experiment(EXPERIMENT_NAME)"
   ]
  },
  {
   "cell_type": "markdown",
   "id": "264a4235",
   "metadata": {},
   "source": [
    "#### First model - linear regression"
   ]
  },
  {
   "cell_type": "code",
   "execution_count": 5,
   "id": "524b7621",
   "metadata": {},
   "outputs": [],
   "source": [
    "def evaluate_regression_and_log(regression_model, X_train, y_train, X_test, y_test):    \n",
    "    # metrics - train\n",
    "    y_train_pred = regression_model.predict(X_train)\n",
    "    mse_train = mean_squared_error(y_train, y_train_pred)\n",
    "    r2_train = r2_score(y_train, y_train_pred)\n",
    "\n",
    "    # metrics - test\n",
    "    y_test_pred = regression_model.predict(X_test)\n",
    "    mse_test = mean_squared_error(y_test, y_test_pred)\n",
    "    r2_test = r2_score(y_test, y_test_pred)\n",
    "    \n",
    "    # log metrics    \n",
    "    mlflow.start_run()\n",
    "\n",
    "    mlflow.log_metric(\"mse_train\", mse_train)\n",
    "    mlflow.log_metric(\"r2_train\", r2_train)\n",
    "    mlflow.log_metric(\"mse_test\", mse_test)\n",
    "    mlflow.log_metric(\"r2_test\", r2_test)\n",
    "\n",
    "    mlflow.end_run()"
   ]
  },
  {
   "cell_type": "code",
   "execution_count": 12,
   "id": "2cc64233",
   "metadata": {},
   "outputs": [
    {
     "data": {
      "text/plain": [
       "<ActiveRun: >"
      ]
     },
     "execution_count": 12,
     "metadata": {},
     "output_type": "execute_result"
    }
   ],
   "source": [
    "mlflow.start_run()"
   ]
  },
  {
   "cell_type": "code",
   "execution_count": 14,
   "id": "c767b7c1",
   "metadata": {},
   "outputs": [],
   "source": [
    "lm = linear_model.LinearRegression()\n",
    "lm = lm.fit(X_train, y_train)\n",
    "\n",
    "mlflow.log_metric(\"mse_train\", 12123)\n",
    "mlflow.log_ta\n",
    "\n",
    "mlflow.end_run()"
   ]
  },
  {
   "cell_type": "code",
   "execution_count": 6,
   "id": "8a45df61",
   "metadata": {},
   "outputs": [
    {
     "ename": "NameError",
     "evalue": "name 'log_metric' is not defined",
     "output_type": "error",
     "traceback": [
      "\u001b[1;31m---------------------------------------------------------------------------\u001b[0m",
      "\u001b[1;31mNameError\u001b[0m                                 Traceback (most recent call last)",
      "\u001b[1;32m~\\AppData\\Local\\Temp/ipykernel_15424/717736973.py\u001b[0m in \u001b[0;36m<module>\u001b[1;34m\u001b[0m\n\u001b[0;32m      2\u001b[0m \u001b[0mlm\u001b[0m \u001b[1;33m=\u001b[0m \u001b[0mlm\u001b[0m\u001b[1;33m.\u001b[0m\u001b[0mfit\u001b[0m\u001b[1;33m(\u001b[0m\u001b[0mX_train\u001b[0m\u001b[1;33m,\u001b[0m \u001b[0my_train\u001b[0m\u001b[1;33m)\u001b[0m\u001b[1;33m\u001b[0m\u001b[1;33m\u001b[0m\u001b[0m\n\u001b[0;32m      3\u001b[0m \u001b[1;33m\u001b[0m\u001b[0m\n\u001b[1;32m----> 4\u001b[1;33m \u001b[0mevaluate_regression_and_log\u001b[0m\u001b[1;33m(\u001b[0m\u001b[0mlm\u001b[0m\u001b[1;33m,\u001b[0m \u001b[0mX_train\u001b[0m\u001b[1;33m,\u001b[0m \u001b[0my_train\u001b[0m\u001b[1;33m,\u001b[0m \u001b[0mX_test\u001b[0m\u001b[1;33m,\u001b[0m \u001b[0my_test\u001b[0m\u001b[1;33m)\u001b[0m\u001b[1;33m\u001b[0m\u001b[1;33m\u001b[0m\u001b[0m\n\u001b[0m",
      "\u001b[1;32m~\\AppData\\Local\\Temp/ipykernel_15424/1383562009.py\u001b[0m in \u001b[0;36mevaluate_regression_and_log\u001b[1;34m(regression_model, X_train, y_train, X_test, y_test)\u001b[0m\n\u001b[0;32m     13\u001b[0m     \u001b[0mmlflow\u001b[0m\u001b[1;33m.\u001b[0m\u001b[0mstart_run\u001b[0m\u001b[1;33m(\u001b[0m\u001b[1;33m)\u001b[0m\u001b[1;33m\u001b[0m\u001b[1;33m\u001b[0m\u001b[0m\n\u001b[0;32m     14\u001b[0m \u001b[1;33m\u001b[0m\u001b[0m\n\u001b[1;32m---> 15\u001b[1;33m     \u001b[0mlog_metric\u001b[0m\u001b[1;33m(\u001b[0m\u001b[1;34m\"mse_train\"\u001b[0m\u001b[1;33m,\u001b[0m \u001b[0mmse_train\u001b[0m\u001b[1;33m)\u001b[0m\u001b[1;33m\u001b[0m\u001b[1;33m\u001b[0m\u001b[0m\n\u001b[0m\u001b[0;32m     16\u001b[0m     \u001b[0mlog_metric\u001b[0m\u001b[1;33m(\u001b[0m\u001b[1;34m\"r2_train\"\u001b[0m\u001b[1;33m,\u001b[0m \u001b[0mr2_train\u001b[0m\u001b[1;33m)\u001b[0m\u001b[1;33m\u001b[0m\u001b[1;33m\u001b[0m\u001b[0m\n\u001b[0;32m     17\u001b[0m     \u001b[0mlog_metric\u001b[0m\u001b[1;33m(\u001b[0m\u001b[1;34m\"mse_test\"\u001b[0m\u001b[1;33m,\u001b[0m \u001b[0mmse_test\u001b[0m\u001b[1;33m)\u001b[0m\u001b[1;33m\u001b[0m\u001b[1;33m\u001b[0m\u001b[0m\n",
      "\u001b[1;31mNameError\u001b[0m: name 'log_metric' is not defined"
     ]
    }
   ],
   "source": [
    "lm = linear_model.LinearRegression()\n",
    "lm = lm.fit(X_train, y_train)\n",
    "\n",
    "evaluate_regression_and_log(lm, X_train, y_train, X_test, y_test)"
   ]
  },
  {
   "cell_type": "markdown",
   "id": "67ab055d",
   "metadata": {},
   "source": [
    "#### Second model - "
   ]
  },
  {
   "cell_type": "code",
   "execution_count": null,
   "id": "ab46a7d2",
   "metadata": {},
   "outputs": [],
   "source": [
    "X_train"
   ]
  },
  {
   "cell_type": "code",
   "execution_count": null,
   "id": "276e325e",
   "metadata": {},
   "outputs": [],
   "source": []
  }
 ],
 "metadata": {
  "kernelspec": {
   "display_name": "Python 3 (ipykernel)",
   "language": "python",
   "name": "python3"
  },
  "language_info": {
   "codemirror_mode": {
    "name": "ipython",
    "version": 3
   },
   "file_extension": ".py",
   "mimetype": "text/x-python",
   "name": "python",
   "nbconvert_exporter": "python",
   "pygments_lexer": "ipython3",
   "version": "3.9.6"
  }
 },
 "nbformat": 4,
 "nbformat_minor": 5
}
